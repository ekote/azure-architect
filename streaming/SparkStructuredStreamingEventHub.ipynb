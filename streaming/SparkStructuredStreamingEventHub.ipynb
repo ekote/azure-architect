{
  "cells": [
    {
      "cell_type": "code",
      "source": [
        "import org.apache.spark.eventhubs.{EventHubsConf, EventPosition}\r\n",
        "\r\n",
        "val connectionString = \"\" // TODO\r\n",
        "\r\n",
        "val eventHubsConf = EventHubsConf(connectionString)\r\n",
        "  .setStartingPosition(EventPosition.fromStartOfStream)\r\n",
        "  .setMaxEventsPerTrigger(10)"
      ],
      "outputs": [
        {
          "output_type": "display_data",
          "data": {
            "application/vnd.livy.statement-meta+json": {
              "spark_pool": "sparkpool",
              "session_id": 11,
              "statement_id": 3,
              "state": "finished",
              "livy_statement_state": "available",
              "queued_time": "2022-04-08T09:01:15.9867164Z",
              "session_start_time": null,
              "execution_start_time": "2022-04-08T09:01:16.1062909Z",
              "execution_finish_time": "2022-04-08T09:01:18.8798286Z"
            },
            "text/plain": "StatementMeta(sparkpool, 11, 3, Finished, Available)"
          },
          "metadata": {}
        },
        {
          "output_type": "stream",
          "name": "stdout",
          "text": [
            "import org.apache.spark.eventhubs.{EventHubsConf, EventPosition}\nconnectionString: String = Endpoint=XXX;EntityPath=XXX\neventHubsConf: org.apache.spark.eventhubs.EventHubsConf = org.apache.spark.eventhubs.EventHubsConf@4ea0ad05\n"
          ]
        }
      ],
      "execution_count": 3,
      "metadata": {
        "jupyter": {
          "source_hidden": false,
          "outputs_hidden": true
        },
        "nteract": {
          "transient": {
            "deleting": false
          }
        }
      }
    },
    {
      "cell_type": "code",
      "source": [
        "spark.conf.set(\"spark.sql.shuffle.partitions\", sc.defaultParallelism)\r\n",
        "\r\n",
        "val eventStreamDF = spark.readStream\r\n",
        "  .format(\"eventhubs\")\r\n",
        "  .options(eventHubsConf.toMap)\r\n",
        "  .load()\r\n",
        "\r\n",
        "eventStreamDF.printSchema()"
      ],
      "outputs": [
        {
          "output_type": "display_data",
          "data": {
            "application/vnd.livy.statement-meta+json": {
              "spark_pool": "sparkpool",
              "session_id": 11,
              "statement_id": 4,
              "state": "finished",
              "livy_statement_state": "available",
              "queued_time": "2022-04-08T09:01:23.0823039Z",
              "session_start_time": null,
              "execution_start_time": "2022-04-08T09:01:23.2226393Z",
              "execution_finish_time": "2022-04-08T09:01:26.5434867Z"
            },
            "text/plain": "StatementMeta(sparkpool, 11, 4, Finished, Available)"
          },
          "metadata": {}
        },
        {
          "output_type": "stream",
          "name": "stdout",
          "text": [
            "root\n |-- body: binary (nullable = true)\n |-- partition: string (nullable = true)\n |-- offset: string (nullable = true)\n |-- sequenceNumber: long (nullable = true)\n |-- enqueuedTime: timestamp (nullable = true)\n |-- publisher: string (nullable = true)\n |-- partitionKey: string (nullable = true)\n |-- properties: map (nullable = true)\n |    |-- key: string\n |    |-- value: string (valueContainsNull = true)\n |-- systemProperties: map (nullable = true)\n |    |-- key: string\n |    |-- value: string (valueContainsNull = true)\n\neventStreamDF: org.apache.spark.sql.DataFrame = [body: binary, partition: string ... 7 more fields]\n"
          ]
        }
      ],
      "execution_count": 4,
      "metadata": {
        "jupyter": {
          "source_hidden": false,
          "outputs_hidden": false
        },
        "nteract": {
          "transient": {
            "deleting": false
          }
        }
      }
    },
    {
      "cell_type": "code",
      "source": [
        "val bodyDF = eventStreamDF.select('body.cast(\"STRING\"))"
      ],
      "outputs": [
        {
          "output_type": "display_data",
          "data": {
            "application/vnd.livy.statement-meta+json": {
              "spark_pool": "sparkpool",
              "session_id": 11,
              "statement_id": 5,
              "state": "finished",
              "livy_statement_state": "available",
              "queued_time": "2022-04-08T09:01:34.077295Z",
              "session_start_time": null,
              "execution_start_time": "2022-04-08T09:01:35.8944879Z",
              "execution_finish_time": "2022-04-08T09:01:36.5218632Z"
            },
            "text/plain": "StatementMeta(sparkpool, 11, 5, Finished, Available)"
          },
          "metadata": {}
        },
        {
          "output_type": "stream",
          "name": "stdout",
          "text": [
            "bodyDF: org.apache.spark.sql.DataFrame = [body: string]\n"
          ]
        }
      ],
      "execution_count": 5,
      "metadata": {
        "jupyter": {
          "source_hidden": false,
          "outputs_hidden": false
        },
        "nteract": {
          "transient": {
            "deleting": false
          }
        }
      }
    },
    {
      "cell_type": "code",
      "source": [
        "for (s <- spark.streams.active if s.name == \"bodyDF\") s.stop()"
      ],
      "outputs": [
        {
          "output_type": "display_data",
          "data": {
            "application/vnd.livy.statement-meta+json": {
              "spark_pool": "sparkpool",
              "session_id": 11,
              "statement_id": 8,
              "state": "finished",
              "livy_statement_state": "available",
              "queued_time": "2022-04-08T09:02:13.171547Z",
              "session_start_time": null,
              "execution_start_time": "2022-04-08T09:02:13.2923073Z",
              "execution_finish_time": "2022-04-08T09:02:14.3354076Z"
            },
            "text/plain": "StatementMeta(sparkpool, 11, 8, Finished, Available)"
          },
          "metadata": {}
        }
      ],
      "execution_count": 8,
      "metadata": {
        "jupyter": {
          "source_hidden": false,
          "outputs_hidden": false
        },
        "nteract": {
          "transient": {
            "deleting": false
          }
        }
      }
    },
    {
      "cell_type": "code",
      "source": [
        "import org.apache.spark.sql.types.{StructField, StructType, StringType, LongType, DoubleType, TimestampType}\r\n",
        "\r\n",
        "lazy val schema = StructType(List(\r\n",
        "  StructField(\"deviceId\", StringType),\r\n",
        "  StructField(\"temperature\", DoubleType),\r\n",
        "  StructField(\"ts\", TimestampType),\r\n",
        "  StructField(\"source\", StringType)))"
      ],
      "outputs": [
        {
          "output_type": "display_data",
          "data": {
            "application/vnd.livy.statement-meta+json": {
              "spark_pool": "sparkpool",
              "session_id": 11,
              "statement_id": 9,
              "state": "finished",
              "livy_statement_state": "available",
              "queued_time": "2022-04-08T09:02:51.9955525Z",
              "session_start_time": null,
              "execution_start_time": "2022-04-08T09:02:53.8415093Z",
              "execution_finish_time": "2022-04-08T09:02:54.0546069Z"
            },
            "text/plain": "StatementMeta(sparkpool, 11, 9, Finished, Available)"
          },
          "metadata": {}
        },
        {
          "output_type": "stream",
          "name": "stdout",
          "text": [
            "import org.apache.spark.sql.types.{StructField, StructType, StringType, LongType, DoubleType, TimestampType}\nschema: org.apache.spark.sql.types.StructType = <lazy>\n"
          ]
        }
      ],
      "execution_count": 9,
      "metadata": {
        "jupyter": {
          "source_hidden": false,
          "outputs_hidden": false
        },
        "nteract": {
          "transient": {
            "deleting": false
          }
        }
      }
    },
    {
      "cell_type": "code",
      "source": [
        "import org.apache.spark.sql.functions.from_json\r\n",
        "\r\n",
        "val parsedEventsDF = bodyDF.select(\r\n",
        "  from_json('body, schema).alias(\"json\"))\r\n",
        "\r\n",
        "parsedEventsDF.printSchema()"
      ],
      "outputs": [
        {
          "output_type": "display_data",
          "data": {
            "application/vnd.livy.statement-meta+json": {
              "spark_pool": "sparkpool",
              "session_id": 11,
              "statement_id": 10,
              "state": "finished",
              "livy_statement_state": "available",
              "queued_time": "2022-04-08T09:02:55.8169077Z",
              "session_start_time": null,
              "execution_start_time": "2022-04-08T09:02:55.9276262Z",
              "execution_finish_time": "2022-04-08T09:02:57.7635063Z"
            },
            "text/plain": "StatementMeta(sparkpool, 11, 10, Finished, Available)"
          },
          "metadata": {}
        },
        {
          "output_type": "stream",
          "name": "stdout",
          "text": [
            "root\n |-- json: struct (nullable = true)\n |    |-- deviceId: string (nullable = true)\n |    |-- temperature: double (nullable = true)\n |    |-- ts: timestamp (nullable = true)\n |    |-- source: string (nullable = true)\n\nimport org.apache.spark.sql.functions.from_json\nparsedEventsDF: org.apache.spark.sql.DataFrame = [json: struct<deviceId: string, temperature: double ... 2 more fields>]\n"
          ]
        }
      ],
      "execution_count": 10,
      "metadata": {
        "jupyter": {
          "source_hidden": false,
          "outputs_hidden": false
        },
        "nteract": {
          "transient": {
            "deleting": false
          }
        }
      }
    },
    {
      "cell_type": "code",
      "source": [
        "parsedEventsDF"
      ],
      "outputs": [
        {
          "output_type": "display_data",
          "data": {
            "application/vnd.livy.statement-meta+json": {
              "spark_pool": "sparkpool",
              "session_id": 11,
              "statement_id": 12,
              "state": "finished",
              "livy_statement_state": "available",
              "queued_time": "2022-04-08T09:03:08.2171937Z",
              "session_start_time": null,
              "execution_start_time": "2022-04-08T09:03:08.3443748Z",
              "execution_finish_time": "2022-04-08T09:03:09.424114Z"
            },
            "text/plain": "StatementMeta(sparkpool, 11, 12, Finished, Available)"
          },
          "metadata": {}
        },
        {
          "output_type": "stream",
          "name": "stdout",
          "text": [
            "res12: org.apache.spark.sql.DataFrame = [json: struct<deviceId: string, temperature: double ... 2 more fields>]\n"
          ]
        }
      ],
      "execution_count": 12,
      "metadata": {
        "jupyter": {
          "source_hidden": false,
          "outputs_hidden": false
        },
        "nteract": {
          "transient": {
            "deleting": false
          }
        }
      }
    },
    {
      "cell_type": "code",
      "source": [
        "import org.apache.spark.sql.functions.{from_unixtime, col}\r\n",
        "\r\n",
        "val flatSchemaDF = parsedEventsDF\r\n",
        "  .select(\r\n",
        "    col(\"json.deviceId\").alias(\"deviceId\"),\r\n",
        "    col(\"json.temperature\").alias(\"temperature\"),\r\n",
        "    col(\"json.ts\").alias(\"ts\").cast(\"timestamp\"),\r\n",
        "    col(\"json.source\").alias(\"source\")\r\n",
        "  )"
      ],
      "outputs": [
        {
          "output_type": "display_data",
          "data": {
            "application/vnd.livy.statement-meta+json": {
              "spark_pool": "sparkpool",
              "session_id": 11,
              "statement_id": 15,
              "state": "finished",
              "livy_statement_state": "available",
              "queued_time": "2022-04-08T09:10:02.8433534Z",
              "session_start_time": null,
              "execution_start_time": "2022-04-08T09:10:04.1940762Z",
              "execution_finish_time": "2022-04-08T09:10:05.3176353Z"
            },
            "text/plain": "StatementMeta(sparkpool, 11, 15, Finished, Available)"
          },
          "metadata": {}
        },
        {
          "output_type": "stream",
          "name": "stdout",
          "text": [
            "import org.apache.spark.sql.functions.{from_unixtime, col}\nflatSchemaDF: org.apache.spark.sql.DataFrame = [deviceId: string, temperature: double ... 2 more fields]\n"
          ]
        }
      ],
      "execution_count": 15,
      "metadata": {
        "jupyter": {
          "source_hidden": false,
          "outputs_hidden": false
        },
        "nteract": {
          "transient": {
            "deleting": false
          }
        }
      }
    },
    {
      "cell_type": "code",
      "source": [
        "mssparkutils.fs.ls(\"abfss://deltalake@adbadlsbg.dfs.core.windows.net/\")"
      ],
      "outputs": [
        {
          "output_type": "display_data",
          "data": {
            "application/vnd.livy.statement-meta+json": {
              "spark_pool": "sparkpool",
              "session_id": 11,
              "statement_id": 18,
              "state": "finished",
              "livy_statement_state": "available",
              "queued_time": "2022-04-08T09:18:00.0902244Z",
              "session_start_time": null,
              "execution_start_time": "2022-04-08T09:18:00.2504712Z",
              "execution_finish_time": "2022-04-08T09:18:01.5217406Z"
            },
            "text/plain": "StatementMeta(sparkpool, 11, 18, Finished, Available)"
          },
          "metadata": {}
        },
        {
          "output_type": "stream",
          "name": "stdout",
          "text": [
            "res15: Array[com.microsoft.spark.notebook.msutils.MSFileInfo] = Array()\n"
          ]
        }
      ],
      "execution_count": 18,
      "metadata": {
        "jupyter": {
          "source_hidden": false,
          "outputs_hidden": false
        },
        "nteract": {
          "transient": {
            "deleting": false
          }
        }
      }
    },
    {
      "cell_type": "code",
      "source": [
        "val checkpointPath = \"abfss://deltalake@adbadlsbg.dfs.core.windows.net/checkpoints\"\r\n",
        "val rawStreamPath = \"abfss://deltalake@adbadlsbg.dfs.core.windows.net/raw\"\r\n",
        "\r\n",
        "eventStreamDF\r\n",
        "  .withColumn(\"Body\", $\"body\".cast(StringType))\r\n",
        "  .select(\"Body\")\r\n",
        "  .writeStream // # Get the DataStreamWriter\r\n",
        "  .format(\"delta\") // # Specify the sink type\r\n",
        "  .option(\"checkpointLocation\", checkpointPath) // Specify the location of checkpoint files & W-A logs\r\n",
        "  .outputMode(\"append\") // Write only new data to the \"file\"\r\n",
        "  .start(rawStreamPath) // Start the job, writing to the specified directory"
      ],
      "outputs": [
        {
          "output_type": "display_data",
          "data": {
            "application/vnd.livy.statement-meta+json": {
              "spark_pool": "sparkpool",
              "session_id": 11,
              "statement_id": 26,
              "state": "finished",
              "livy_statement_state": "available",
              "queued_time": "2022-04-08T09:46:02.6373351Z",
              "session_start_time": null,
              "execution_start_time": "2022-04-08T09:46:02.8403373Z",
              "execution_finish_time": "2022-04-08T09:46:05.7939741Z"
            },
            "text/plain": "StatementMeta(sparkpool, 11, 26, Finished, Available)"
          },
          "metadata": {}
        },
        {
          "output_type": "stream",
          "name": "stdout",
          "text": [
            "checkpointPath: String = abfss://deltalake@adbadlsbg.dfs.core.windows.net/checkpoints\nrawStreamPath: String = abfss://deltalake@adbadlsbg.dfs.core.windows.net/raw\nres21: org.apache.spark.sql.streaming.StreamingQuery = org.apache.spark.sql.execution.streaming.StreamingQueryWrapper@3cd35aef\n"
          ]
        }
      ],
      "execution_count": 26,
      "metadata": {
        "jupyter": {
          "source_hidden": false,
          "outputs_hidden": false
        },
        "nteract": {
          "transient": {
            "deleting": false
          }
        }
      }
    },
    {
      "cell_type": "code",
      "source": [
        "val streaming = flatSchemaDF\r\n",
        "  .writeStream\r\n",
        "  .format(\"delta\")\r\n",
        "  .option(\"checkpointLocation\", checkpointPath + \"/raw\")\r\n",
        "  .outputMode(\"append\")\r\n",
        "  .start(rawStreamPath)"
      ],
      "outputs": [
        {
          "output_type": "display_data",
          "data": {
            "application/vnd.livy.statement-meta+json": {
              "spark_pool": "sparkpool",
              "session_id": 11,
              "statement_id": 20,
              "state": "finished",
              "livy_statement_state": "available",
              "queued_time": "2022-04-08T09:20:04.3806401Z",
              "session_start_time": null,
              "execution_start_time": "2022-04-08T09:20:04.4986182Z",
              "execution_finish_time": "2022-04-08T09:20:06.3209874Z"
            },
            "text/plain": "StatementMeta(sparkpool, 11, 20, Finished, Available)"
          },
          "metadata": {}
        },
        {
          "output_type": "stream",
          "name": "stdout",
          "text": [
            "streaming: org.apache.spark.sql.streaming.StreamingQuery = org.apache.spark.sql.execution.streaming.StreamingQueryWrapper@7a559cdc\n"
          ]
        }
      ],
      "execution_count": 20,
      "metadata": {
        "jupyter": {
          "source_hidden": false,
          "outputs_hidden": false
        },
        "nteract": {
          "transient": {
            "deleting": false
          }
        }
      }
    },
    {
      "cell_type": "code",
      "source": [
        "streaming.recentProgress"
      ],
      "outputs": [
        {
          "output_type": "display_data",
          "data": {
            "application/vnd.livy.statement-meta+json": {
              "spark_pool": "sparkpool",
              "session_id": 11,
              "statement_id": 21,
              "state": "finished",
              "livy_statement_state": "available",
              "queued_time": "2022-04-08T09:20:15.4596647Z",
              "session_start_time": null,
              "execution_start_time": "2022-04-08T09:20:15.5958384Z",
              "execution_finish_time": "2022-04-08T09:20:16.6859731Z"
            },
            "text/plain": "StatementMeta(sparkpool, 11, 21, Finished, Available)"
          },
          "metadata": {}
        },
        {
          "output_type": "stream",
          "name": "stdout",
          "text": [
            "res17: Array[org.apache.spark.sql.streaming.StreamingQueryProgress] =\nArray({\n  \"id\" : \"1c09c997-9498-4c3d-8dad-173adc12edaf\",\n  \"runId\" : \"db75cb0a-99fb-4a48-818b-ddaa788e5e19\",\n  \"name\" : null,\n  \"timestamp\" : \"2022-04-08T09:20:05.744Z\",\n  \"batchId\" : 1,\n  \"numInputRows\" : 0,\n  \"inputRowsPerSecond\" : 0.0,\n  \"processedRowsPerSecond\" : 0.0,\n  \"durationMs\" : {\n    \"getOffset\" : 7,\n    \"triggerExecution\" : 352\n  },\n  \"stateOperators\" : [ ],\n  \"sources\" : [ {\n    \"description\" : \"org.apache.spark.sql.eventhubs.EventHubsSource@7ee42484\",\n    \"startOffset\" : {\n      \"temp\" : {\n        \"0\" : 425140\n      }\n    },\n    \"endOffset\" : {\n      \"temp\" : {\n        \"0\" : 425140\n      }\n    },\n    \"numInputRows\" : 0,\n    \"inputRowsPerSecond\" : 0.0,\n    \"processedRowsPerSecond\" : 0.0\n  } ],\n  \"sink\" : ...\n"
          ]
        }
      ],
      "execution_count": 21,
      "metadata": {
        "jupyter": {
          "source_hidden": false,
          "outputs_hidden": false
        },
        "nteract": {
          "transient": {
            "deleting": false
          }
        }
      }
    },
    {
      "cell_type": "code",
      "source": [
        "for (s <- spark.streams.active)\r\n",
        "  println(s)"
      ],
      "outputs": [
        {
          "output_type": "display_data",
          "data": {
            "application/vnd.livy.statement-meta+json": {
              "spark_pool": "sparkpool",
              "session_id": 11,
              "statement_id": 27,
              "state": "finished",
              "livy_statement_state": "available",
              "queued_time": "2022-04-08T09:46:11.6875749Z",
              "session_start_time": null,
              "execution_start_time": "2022-04-08T09:46:11.9650475Z",
              "execution_finish_time": "2022-04-08T09:46:13.2948138Z"
            },
            "text/plain": "StatementMeta(sparkpool, 11, 27, Finished, Available)"
          },
          "metadata": {}
        },
        {
          "output_type": "stream",
          "name": "stdout",
          "text": [
            "org.apache.spark.sql.execution.streaming.StreamingQueryWrapper@3cd35aef\n"
          ]
        }
      ],
      "execution_count": 27,
      "metadata": {
        "jupyter": {
          "source_hidden": false,
          "outputs_hidden": false
        },
        "nteract": {
          "transient": {
            "deleting": false
          }
        }
      }
    },
    {
      "cell_type": "code",
      "source": [
        "import org.apache.spark.sql.types._\r\n",
        "\r\n",
        "val inputPath = \"abfss://deltalake@adbadlsbg.dfs.core.windows.net/raw\"\r\n",
        "\r\n",
        "val staticInputDF = \r\n",
        "  spark\r\n",
        "    .read\r\n",
        "    .format(\"delta\")\r\n",
        "    .load(inputPath)\r\n",
        "\r\n",
        "display(staticInputDF)"
      ],
      "outputs": [
        {
          "output_type": "display_data",
          "data": {
            "application/vnd.livy.statement-meta+json": {
              "spark_pool": "sparkpool",
              "session_id": 11,
              "statement_id": 29,
              "state": "finished",
              "livy_statement_state": "available",
              "queued_time": "2022-04-08T09:50:52.1029251Z",
              "session_start_time": null,
              "execution_start_time": "2022-04-08T09:50:52.2556195Z",
              "execution_finish_time": "2022-04-08T09:51:04.485472Z"
            },
            "text/plain": "StatementMeta(sparkpool, 11, 29, Finished, Available)"
          },
          "metadata": {}
        },
        {
          "output_type": "display_data",
          "data": {
            "application/vnd.synapse.widget-view+json": {
              "widget_id": "8914f7ad-5bcc-4140-aa24-d74ee0f5a582",
              "widget_type": "Synapse.DataFrame"
            },
            "text/plain": "SynapseWidget(Synapse.DataFrame, 8914f7ad-5bcc-4140-aa24-d74ee0f5a582)"
          },
          "metadata": {}
        },
        {
          "output_type": "stream",
          "name": "stdout",
          "text": [
            "\nimport org.apache.spark.sql.types._\ninputPath: String = abfss://deltalake@adbadlsbg.dfs.core.windows.net/raw\nstaticInputDF: org.apache.spark.sql.DataFrame = [Body: string]\n"
          ]
        }
      ],
      "execution_count": 29,
      "metadata": {
        "jupyter": {
          "source_hidden": false,
          "outputs_hidden": false
        },
        "nteract": {
          "transient": {
            "deleting": false
          }
        },
        "collapsed": false
      }
    }
  ],
  "metadata": {
    "language_info": {
      "name": "scala"
    },
    "kernelspec": {
      "name": "synapse_pyspark",
      "language": "Python",
      "display_name": "Synapse PySpark"
    },
    "kernel_info": {
      "name": "synapse_pyspark"
    },
    "save_output": true,
    "synapse_widget": {
      "version": "0.1",
      "state": {
        "8914f7ad-5bcc-4140-aa24-d74ee0f5a582": {
          "type": "Synapse.DataFrame",
          "sync_state": {
            "table": {
              "rows": [
                {
                  "0": "{\"deviceId\": \"tenant1-1\", \"temperature\": 29.48781264835505, \"pressure\": 180.28313484473225, \"ts\": \"2022-04-08T09:32:55.408519\", \"source\": \"eventhub\"}"
                },
                {
                  "0": "{\"deviceId\": \"tenant1-9\", \"temperature\": -7.963988788398625, \"pressure\": 443.7819170018429, \"ts\": \"2022-04-08T09:32:55.408925\", \"source\": \"eventhub\"}"
                },
                {
                  "0": "{\"deviceId\": \"tenant1-3\", \"temperature\": -43.48831210973207, \"ts\": \"2022-04-08T09:32:55.409128\", \"source\": \"eventhub\"}"
                },
                {
                  "0": "{\"deviceId\": \"tenant1-7\", \"temperature\": 7.824744226355965, \"pressure\": 444.45385426918824, \"ts\": \"2022-04-08T09:32:55.409264\", \"source\": \"eventhub\"}"
                },
                {
                  "0": "{\"deviceId\": \"tenant1-2\", \"temperature\": 47.53487259654742, \"ts\": \"2022-04-08T09:32:55.409488\", \"source\": \"eventhub\"}"
                },
                {
                  "0": "{\"deviceId\": \"tenant1-6\", \"temperature\": -46.710969080460195, \"ts\": \"2022-04-08T09:32:55.409604\", \"source\": \"eventhub\"}"
                },
                {
                  "0": "{\"deviceId\": \"tenant1-7\", \"temperature\": -13.081691169699745, \"pressure\": 292.6486239723237, \"ts\": \"2022-04-08T09:32:55.409731\", \"source\": \"eventhub\"}"
                },
                {
                  "0": "{\"deviceId\": \"tenant1-5\", \"temperature\": 31.147387244966378, \"pressure\": 367.94121396341484, \"ts\": \"2022-04-08T09:32:55.409845\", \"source\": \"eventhub\"}"
                },
                {
                  "0": "{\"deviceId\": \"tenant1-6\", \"temperature\": 34.98530528303843, \"pressure\": 190.63305833152683, \"ts\": \"2022-04-08T09:32:55.409991\", \"source\": \"eventhub\"}"
                },
                {
                  "0": "{\"deviceId\": \"tenant1-8\", \"temperature\": 33.16756396734545, \"pressure\": 450.00938106515883, \"ts\": \"2022-04-08T09:32:55.410101\", \"source\": \"eventhub\"}"
                },
                {
                  "0": "{\"deviceId\": \"tenant1-5\", \"temperature\": 19.259612654903194, \"pressure\": 415.2697076629645, \"ts\": \"2022-04-08T09:32:52.651275\", \"source\": \"eventhub\"}"
                },
                {
                  "0": "{\"deviceId\": \"tenant1-7\", \"temperature\": 2.076540924429859, \"pressure\": 248.02071661257773, \"ts\": \"2022-04-08T09:32:52.651384\", \"source\": \"eventhub\"}"
                },
                {
                  "0": "{\"deviceId\": \"tenant1-2\", \"temperature\": 8.141228233100188, \"ts\": \"2022-04-08T09:32:52.651509\", \"source\": \"eventhub\"}"
                },
                {
                  "0": "{\"deviceId\": \"tenant1-7\", \"temperature\": 31.097706372259662, \"pressure\": 126.66084042550136, \"ts\": \"2022-04-08T09:32:52.651618\", \"source\": \"eventhub\"}"
                },
                {
                  "0": "{\"deviceId\": \"tenant1-1\", \"temperature\": 45.92847950101206, \"pressure\": 269.5019767850147, \"ts\": \"2022-04-08T09:32:52.651751\", \"source\": \"eventhub\"}"
                },
                {
                  "0": "{\"deviceId\": \"tenant1-7\", \"temperature\": 35.227706260970415, \"pressure\": 332.3645510010686, \"ts\": \"2022-04-08T09:32:52.651865\", \"source\": \"eventhub\"}"
                },
                {
                  "0": "{\"deviceId\": \"tenant1-3\", \"temperature\": 39.93112938044017, \"ts\": \"2022-04-08T09:32:52.651977\", \"source\": \"eventhub\"}"
                },
                {
                  "0": "{\"deviceId\": \"tenant1-5\", \"temperature\": 46.38975514755097, \"pressure\": 291.8296160169025, \"ts\": \"2022-04-08T09:32:52.652086\", \"source\": \"eventhub\"}"
                },
                {
                  "0": "{\"deviceId\": \"tenant1-7\", \"temperature\": 48.76393917986726, \"pressure\": 3.3859616686409986, \"ts\": \"2022-04-08T09:32:52.652198\", \"source\": \"eventhub\"}"
                },
                {
                  "0": "{\"deviceId\": \"tenant1-2\", \"temperature\": 23.257856014750793, \"pressure\": 452.9675996552536, \"ts\": \"2022-04-08T09:32:52.652308\", \"source\": \"eventhub\"}"
                },
                {
                  "0": "{\"deviceId\": \"tenant1-9\", \"temperature\": 48.46052189476944, \"pressure\": 468.3528329371735, \"ts\": \"2022-04-08T09:32:41.360788\", \"source\": \"eventhub\"}"
                },
                {
                  "0": "{\"deviceId\": \"tenant1-1\", \"temperature\": -36.000643336950205, \"pressure\": 115.61522165774694, \"ts\": \"2022-04-08T09:32:41.361066\", \"source\": \"eventhub\"}"
                },
                {
                  "0": "{\"deviceId\": \"tenant1-2\", \"temperature\": -3.004558994963845, \"ts\": \"2022-04-08T09:32:41.361216\", \"source\": \"eventhub\"}"
                },
                {
                  "0": "{\"deviceId\": \"tenant1-3\", \"temperature\": 4.353261378325653, \"pressure\": 133.89164715713932, \"ts\": \"2022-04-08T09:32:41.361575\", \"source\": \"eventhub\"}"
                },
                {
                  "0": "{\"deviceId\": \"tenant1-1\", \"temperature\": 17.4486085253625, \"pressure\": 499.32288044502064, \"ts\": \"2022-04-08T09:32:41.361715\", \"source\": \"eventhub\"}"
                },
                {
                  "0": "{\"deviceId\": \"tenant1-8\", \"temperature\": 43.03940135600944, \"pressure\": 283.14230890323034, \"ts\": \"2022-04-08T09:32:41.361854\", \"source\": \"eventhub\"}"
                },
                {
                  "0": "{\"deviceId\": \"tenant1-5\", \"temperature\": -16.81691993898142, \"ts\": \"2022-04-08T09:32:41.361977\", \"source\": \"eventhub\"}"
                },
                {
                  "0": "{\"deviceId\": \"tenant1-6\", \"temperature\": 44.26159656191023, \"pressure\": 410.0954688920895, \"ts\": \"2022-04-08T09:32:41.362092\", \"source\": \"eventhub\"}"
                },
                {
                  "0": "{\"deviceId\": \"tenant1-2\", \"temperature\": 36.6493045606957, \"pressure\": 375.99515600784974, \"ts\": \"2022-04-08T09:32:41.362207\", \"source\": \"eventhub\"}"
                },
                {
                  "0": "{\"deviceId\": \"tenant1-5\", \"temperature\": -46.095199930072084, \"ts\": \"2022-04-08T09:32:41.362321\", \"source\": \"eventhub\"}"
                },
                {
                  "0": "{\"deviceId\": \"tenant1-7\", \"temperature\": -10.359494568567397, \"ts\": \"2022-04-08T09:32:54.090430\", \"source\": \"eventhub\"}"
                },
                {
                  "0": "{\"deviceId\": \"tenant1-6\", \"temperature\": 34.752505863494235, \"pressure\": 22.10812843375776, \"ts\": \"2022-04-08T09:32:54.090543\", \"source\": \"eventhub\"}"
                },
                {
                  "0": "{\"deviceId\": \"tenant1-3\", \"temperature\": 11.93681354792352, \"ts\": \"2022-04-08T09:32:54.090671\", \"source\": \"eventhub\"}"
                },
                {
                  "0": "{\"deviceId\": \"tenant1-2\", \"temperature\": -8.743456818606486, \"pressure\": 61.513412748816044, \"ts\": \"2022-04-08T09:32:54.090800\", \"source\": \"eventhub\"}"
                },
                {
                  "0": "{\"deviceId\": \"tenant1-3\", \"temperature\": 49.572090178757314, \"pressure\": 397.8918789678038, \"ts\": \"2022-04-08T09:32:54.090930\", \"source\": \"eventhub\"}"
                },
                {
                  "0": "{\"deviceId\": \"tenant1-4\", \"temperature\": 19.93972505200441, \"ts\": \"2022-04-08T09:32:54.091050\", \"source\": \"eventhub\"}"
                },
                {
                  "0": "{\"deviceId\": \"tenant1-5\", \"temperature\": 34.67890338909736, \"pressure\": 347.42766205949334, \"ts\": \"2022-04-08T09:32:54.091196\", \"source\": \"eventhub\"}"
                },
                {
                  "0": "{\"deviceId\": \"tenant1-9\", \"temperature\": -39.23613896945112, \"pressure\": 228.3224069002736, \"ts\": \"2022-04-08T09:32:54.091333\", \"source\": \"eventhub\"}"
                },
                {
                  "0": "{\"deviceId\": \"tenant1-2\", \"temperature\": 45.24623912546495, \"pressure\": 381.11274635280677, \"ts\": \"2022-04-08T09:32:54.091460\", \"source\": \"eventhub\"}"
                },
                {
                  "0": "{\"deviceId\": \"tenant1-3\", \"temperature\": -15.134548371660498, \"ts\": \"2022-04-08T09:32:54.091577\", \"source\": \"eventhub\"}"
                },
                {
                  "0": "{\"deviceId\": \"tenant1-3\", \"temperature\": -45.26765628395091, \"pressure\": 270.51695650352724, \"ts\": \"2022-04-08T09:32:50.070979\", \"source\": \"eventhub\"}"
                },
                {
                  "0": "{\"deviceId\": \"tenant1-5\", \"temperature\": -14.115931400369394, \"ts\": \"2022-04-08T09:32:50.071282\", \"source\": \"eventhub\"}"
                },
                {
                  "0": "{\"deviceId\": \"tenant1-7\", \"temperature\": -39.92484463141519, \"ts\": \"2022-04-08T09:32:50.071435\", \"source\": \"eventhub\"}"
                },
                {
                  "0": "{\"deviceId\": \"tenant1-1\", \"temperature\": 25.237516418902096, \"ts\": \"2022-04-08T09:32:50.071556\", \"source\": \"eventhub\"}"
                },
                {
                  "0": "{\"deviceId\": \"tenant1-6\", \"temperature\": -5.084181691731895, \"ts\": \"2022-04-08T09:32:50.071668\", \"source\": \"eventhub\"}"
                },
                {
                  "0": "{\"deviceId\": \"tenant1-7\", \"temperature\": 32.163639251154606, \"pressure\": 428.7562624141081, \"ts\": \"2022-04-08T09:32:50.071780\", \"source\": \"eventhub\"}"
                },
                {
                  "0": "{\"deviceId\": \"tenant1-4\", \"temperature\": -37.539112436876984, \"pressure\": 336.7080138774794, \"ts\": \"2022-04-08T09:32:50.071895\", \"source\": \"eventhub\"}"
                },
                {
                  "0": "{\"deviceId\": \"tenant1-1\", \"temperature\": -9.264491952618792, \"pressure\": 322.0899851680492, \"ts\": \"2022-04-08T09:32:50.072011\", \"source\": \"eventhub\"}"
                },
                {
                  "0": "{\"deviceId\": \"tenant1-2\", \"temperature\": 29.278828256759482, \"pressure\": 366.745607869419, \"ts\": \"2022-04-08T09:32:50.072126\", \"source\": \"eventhub\"}"
                },
                {
                  "0": "{\"deviceId\": \"tenant1-9\", \"temperature\": 47.40874128837514, \"pressure\": 188.23268712449484, \"ts\": \"2022-04-08T09:32:50.072236\", \"source\": \"eventhub\"}"
                },
                {
                  "0": "{\"deviceId\": \"tenant1-5\", \"temperature\": 35.19303112276056, \"pressure\": 140.38427453044883, \"ts\": \"2022-04-08T09:32:50.072347\", \"source\": \"eventhub\"}"
                },
                {
                  "0": "{\"deviceId\": \"tenant1-8\", \"temperature\": 13.565301790831523, \"pressure\": 8.12907729890852, \"ts\": \"2022-04-08T09:32:50.072490\", \"source\": \"eventhub\"}"
                },
                {
                  "0": "{\"deviceId\": \"tenant1-9\", \"temperature\": -29.48563138988418, \"pressure\": 371.5299936922874, \"ts\": \"2022-04-08T09:32:50.072599\", \"source\": \"eventhub\"}"
                },
                {
                  "0": "{\"deviceId\": \"tenant1-3\", \"temperature\": -28.991078132954684, \"ts\": \"2022-04-08T09:32:50.072706\", \"source\": \"eventhub\"}"
                },
                {
                  "0": "{\"deviceId\": \"tenant1-1\", \"temperature\": 30.428989946145116, \"pressure\": 121.1974496884945, \"ts\": \"2022-04-08T09:32:50.072831\", \"source\": \"eventhub\"}"
                },
                {
                  "0": "{\"deviceId\": \"tenant1-2\", \"temperature\": -34.758629306667885, \"ts\": \"2022-04-08T09:32:50.072937\", \"source\": \"eventhub\"}"
                },
                {
                  "0": "{\"deviceId\": \"tenant1-6\", \"temperature\": -31.006476639426243, \"ts\": \"2022-04-08T09:32:50.073045\", \"source\": \"eventhub\"}"
                },
                {
                  "0": "{\"deviceId\": \"tenant1-5\", \"temperature\": 40.89774496233321, \"ts\": \"2022-04-08T09:32:50.073424\", \"source\": \"eventhub\"}"
                },
                {
                  "0": "{\"deviceId\": \"tenant1-7\", \"temperature\": -32.498203596986876, \"ts\": \"2022-04-08T09:32:50.073568\", \"source\": \"eventhub\"}"
                },
                {
                  "0": "{\"deviceId\": \"tenant1-5\", \"temperature\": 27.63197417334409, \"pressure\": 408.6955489899543, \"ts\": \"2022-04-08T09:32:50.073703\", \"source\": \"eventhub\"}"
                },
                {
                  "0": "{\"deviceId\": \"tenant1-9\", \"temperature\": -5.645027669146423, \"pressure\": 435.3204859054653, \"ts\": \"2022-04-08T09:32:39.992401\", \"source\": \"eventhub\"}"
                },
                {
                  "0": "{\"deviceId\": \"tenant1-4\", \"temperature\": 19.24393587311795, \"ts\": \"2022-04-08T09:32:39.992517\", \"source\": \"eventhub\"}"
                },
                {
                  "0": "{\"deviceId\": \"tenant1-3\", \"temperature\": 33.423307282818, \"pressure\": 44.516655639509196, \"ts\": \"2022-04-08T09:32:39.992629\", \"source\": \"eventhub\"}"
                },
                {
                  "0": "{\"deviceId\": \"tenant1-2\", \"temperature\": 25.132571628234956, \"pressure\": 354.5039263241203, \"ts\": \"2022-04-08T09:32:39.992744\", \"source\": \"eventhub\"}"
                },
                {
                  "0": "{\"deviceId\": \"tenant1-8\", \"temperature\": -38.47305351900407, \"pressure\": 17.339868655793428, \"ts\": \"2022-04-08T09:32:39.992857\", \"source\": \"eventhub\"}"
                },
                {
                  "0": "{\"deviceId\": \"tenant1-8\", \"temperature\": -12.821985112707697, \"ts\": \"2022-04-08T09:32:39.992969\", \"source\": \"eventhub\"}"
                },
                {
                  "0": "{\"deviceId\": \"tenant1-5\", \"temperature\": -36.10150734027665, \"ts\": \"2022-04-08T09:32:39.993095\", \"source\": \"eventhub\"}"
                },
                {
                  "0": "{\"deviceId\": \"tenant1-8\", \"temperature\": 30.425003326701727, \"ts\": \"2022-04-08T09:32:39.993202\", \"source\": \"eventhub\"}"
                },
                {
                  "0": "{\"deviceId\": \"tenant1-7\", \"temperature\": 24.521306210318272, \"ts\": \"2022-04-08T09:32:39.993310\", \"source\": \"eventhub\"}"
                },
                {
                  "0": "{\"deviceId\": \"tenant1-6\", \"temperature\": 14.378781321930168, \"pressure\": 123.43730871700517, \"ts\": \"2022-04-08T09:32:39.993447\", \"source\": \"eventhub\"}"
                },
                {
                  "0": "{\"deviceId\": \"tenant1-3\", \"temperature\": -5.3066151773473225, \"pressure\": 133.49519102230303, \"ts\": \"2022-04-08T09:32:54.754814\", \"source\": \"eventhub\"}"
                },
                {
                  "0": "{\"deviceId\": \"tenant1-8\", \"temperature\": -3.4893003140216807, \"pressure\": 84.9571742703031, \"ts\": \"2022-04-08T09:32:54.755223\", \"source\": \"eventhub\"}"
                },
                {
                  "0": "{\"deviceId\": \"tenant1-2\", \"temperature\": -40.24606216272873, \"pressure\": 472.2761118053691, \"ts\": \"2022-04-08T09:32:54.755359\", \"source\": \"eventhub\"}"
                },
                {
                  "0": "{\"deviceId\": \"tenant1-1\", \"temperature\": -37.14225015692831, \"pressure\": 121.74935452931174, \"ts\": \"2022-04-08T09:32:54.755482\", \"source\": \"eventhub\"}"
                },
                {
                  "0": "{\"deviceId\": \"tenant1-2\", \"temperature\": -40.08495085477216, \"pressure\": 359.6881117289756, \"ts\": \"2022-04-08T09:32:54.755601\", \"source\": \"eventhub\"}"
                },
                {
                  "0": "{\"deviceId\": \"tenant1-6\", \"temperature\": 30.459446344461693, \"pressure\": 276.4308510665683, \"ts\": \"2022-04-08T09:32:54.755769\", \"source\": \"eventhub\"}"
                },
                {
                  "0": "{\"deviceId\": \"tenant1-1\", \"temperature\": 44.47596521808351, \"pressure\": 439.80254858913577, \"ts\": \"2022-04-08T09:32:54.755909\", \"source\": \"eventhub\"}"
                },
                {
                  "0": "{\"deviceId\": \"tenant1-2\", \"temperature\": 28.532976341123174, \"pressure\": 302.3528954237816, \"ts\": \"2022-04-08T09:32:54.756046\", \"source\": \"eventhub\"}"
                },
                {
                  "0": "{\"deviceId\": \"tenant1-9\", \"temperature\": 13.20602921939236, \"ts\": \"2022-04-08T09:32:54.756200\", \"source\": \"eventhub\"}"
                },
                {
                  "0": "{\"deviceId\": \"tenant1-2\", \"temperature\": -19.560224895851032, \"ts\": \"2022-04-08T09:32:54.756344\", \"source\": \"eventhub\"}"
                },
                {
                  "0": "{\"deviceId\": \"tenant1-7\", \"temperature\": -5.68496025760882, \"ts\": \"2022-04-08T09:32:59.342181\", \"source\": \"eventhub\"}"
                },
                {
                  "0": "{\"deviceId\": \"tenant1-5\", \"temperature\": 13.822281581292176, \"pressure\": 488.9615352053979, \"ts\": \"2022-04-08T09:32:59.342295\", \"source\": \"eventhub\"}"
                },
                {
                  "0": "{\"deviceId\": \"tenant1-5\", \"temperature\": -23.444049424682824, \"pressure\": 158.8165129547031, \"ts\": \"2022-04-08T09:32:59.342406\", \"source\": \"eventhub\"}"
                },
                {
                  "0": "{\"deviceId\": \"tenant1-4\", \"temperature\": 22.179524906927863, \"ts\": \"2022-04-08T09:32:59.342698\", \"source\": \"eventhub\"}"
                },
                {
                  "0": "{\"deviceId\": \"tenant1-5\", \"temperature\": 43.63174163546257, \"pressure\": 492.3378985776018, \"ts\": \"2022-04-08T09:32:59.342874\", \"source\": \"eventhub\"}"
                },
                {
                  "0": "{\"deviceId\": \"tenant1-1\", \"temperature\": 11.408124862414795, \"pressure\": 480.3301765106362, \"ts\": \"2022-04-08T09:32:59.343062\", \"source\": \"eventhub\"}"
                },
                {
                  "0": "{\"deviceId\": \"tenant1-2\", \"temperature\": 4.865096251320911, \"ts\": \"2022-04-08T09:32:59.343198\", \"source\": \"eventhub\"}"
                },
                {
                  "0": "{\"deviceId\": \"tenant1-7\", \"temperature\": 40.90147652465193, \"pressure\": 382.5617215518796, \"ts\": \"2022-04-08T09:32:59.343395\", \"source\": \"eventhub\"}"
                },
                {
                  "0": "{\"deviceId\": \"tenant1-3\", \"temperature\": 35.09262507892511, \"ts\": \"2022-04-08T09:32:59.343612\", \"source\": \"eventhub\"}"
                },
                {
                  "0": "{\"deviceId\": \"tenant1-5\", \"temperature\": 2.009545057481949, \"ts\": \"2022-04-08T09:32:59.343811\", \"source\": \"eventhub\"}"
                },
                {
                  "0": "{\"deviceId\": \"tenant1-2\", \"temperature\": 8.720666724230442, \"ts\": \"2022-04-08T09:32:44.690795\", \"source\": \"eventhub\"}"
                },
                {
                  "0": "{\"deviceId\": \"tenant1-3\", \"temperature\": -28.435619041448792, \"pressure\": 327.40307302456193, \"ts\": \"2022-04-08T09:32:44.691093\", \"source\": \"eventhub\"}"
                },
                {
                  "0": "{\"deviceId\": \"tenant1-2\", \"temperature\": 48.19693944104542, \"pressure\": 17.88255038008551, \"ts\": \"2022-04-08T09:32:44.691295\", \"source\": \"eventhub\"}"
                },
                {
                  "0": "{\"deviceId\": \"tenant1-3\", \"temperature\": 12.777225031776078, \"pressure\": 324.08120644527474, \"ts\": \"2022-04-08T09:32:44.692567\", \"source\": \"eventhub\"}"
                },
                {
                  "0": "{\"deviceId\": \"tenant1-5\", \"temperature\": 34.20338238502491, \"pressure\": 90.97647261062019, \"ts\": \"2022-04-08T09:32:44.692720\", \"source\": \"eventhub\"}"
                },
                {
                  "0": "{\"deviceId\": \"tenant1-8\", \"temperature\": 0.3424705537252526, \"pressure\": 305.529291423833, \"ts\": \"2022-04-08T09:32:44.692848\", \"source\": \"eventhub\"}"
                },
                {
                  "0": "{\"deviceId\": \"tenant1-2\", \"temperature\": 1.1691092436776815, \"pressure\": 109.32390568169231, \"ts\": \"2022-04-08T09:32:44.692988\", \"source\": \"eventhub\"}"
                },
                {
                  "0": "{\"deviceId\": \"tenant1-9\", \"temperature\": -4.276821785885826, \"pressure\": 90.62594478866495, \"ts\": \"2022-04-08T09:32:44.693125\", \"source\": \"eventhub\"}"
                },
                {
                  "0": "{\"deviceId\": \"tenant1-8\", \"temperature\": -7.512408800293018, \"ts\": \"2022-04-08T09:32:44.693247\", \"source\": \"eventhub\"}"
                },
                {
                  "0": "{\"deviceId\": \"tenant1-2\", \"temperature\": -41.75865568629472, \"ts\": \"2022-04-08T09:32:44.693401\", \"source\": \"eventhub\"}"
                },
                {
                  "0": "{\"deviceId\": \"tenant1-5\", \"temperature\": -34.19726927975712, \"pressure\": 170.68555685937878, \"ts\": \"2022-04-08T09:32:44.033768\", \"source\": \"eventhub\"}"
                },
                {
                  "0": "{\"deviceId\": \"tenant1-4\", \"temperature\": 25.015337889736, \"ts\": \"2022-04-08T09:32:44.034195\", \"source\": \"eventhub\"}"
                },
                {
                  "0": "{\"deviceId\": \"tenant1-2\", \"temperature\": 39.09915899622258, \"ts\": \"2022-04-08T09:32:44.034385\", \"source\": \"eventhub\"}"
                },
                {
                  "0": "{\"deviceId\": \"tenant1-9\", \"temperature\": 37.149472050728775, \"pressure\": 276.4064348600759, \"ts\": \"2022-04-08T09:32:44.034519\", \"source\": \"eventhub\"}"
                },
                {
                  "0": "{\"deviceId\": \"tenant1-6\", \"temperature\": -6.60184114218214, \"pressure\": 60.659133362413456, \"ts\": \"2022-04-08T09:32:44.034661\", \"source\": \"eventhub\"}"
                },
                {
                  "0": "{\"deviceId\": \"tenant1-1\", \"temperature\": 29.61258660756121, \"pressure\": 341.9275250377058, \"ts\": \"2022-04-08T09:32:44.034783\", \"source\": \"eventhub\"}"
                },
                {
                  "0": "{\"deviceId\": \"tenant1-5\", \"temperature\": 21.657748436128504, \"ts\": \"2022-04-08T09:32:44.034942\", \"source\": \"eventhub\"}"
                },
                {
                  "0": "{\"deviceId\": \"tenant1-7\", \"temperature\": 48.52559850795636, \"ts\": \"2022-04-08T09:32:44.035066\", \"source\": \"eventhub\"}"
                },
                {
                  "0": "{\"deviceId\": \"tenant1-4\", \"temperature\": 24.194852317813105, \"pressure\": 65.35732532148688, \"ts\": \"2022-04-08T09:32:44.035188\", \"source\": \"eventhub\"}"
                },
                {
                  "0": "{\"deviceId\": \"tenant1-5\", \"temperature\": -13.19001411492499, \"ts\": \"2022-04-08T09:32:44.035373\", \"source\": \"eventhub\"}"
                },
                {
                  "0": "{\"deviceId\": \"tenant1-4\", \"temperature\": -39.82057151548318, \"pressure\": 271.08224597924067, \"ts\": \"2022-04-08T09:32:59.340622\", \"source\": \"eventhub\"}"
                },
                {
                  "0": "{\"deviceId\": \"tenant1-4\", \"temperature\": 43.301063406021704, \"ts\": \"2022-04-08T09:32:59.340919\", \"source\": \"eventhub\"}"
                },
                {
                  "0": "{\"deviceId\": \"tenant1-1\", \"temperature\": 18.721356575192534, \"pressure\": 407.08902686064243, \"ts\": \"2022-04-08T09:32:59.341078\", \"source\": \"eventhub\"}"
                },
                {
                  "0": "{\"deviceId\": \"tenant1-4\", \"temperature\": -6.153605003562984, \"pressure\": 442.6983137924162, \"ts\": \"2022-04-08T09:32:59.341230\", \"source\": \"eventhub\"}"
                },
                {
                  "0": "{\"deviceId\": \"tenant1-5\", \"temperature\": -38.83696003207773, \"ts\": \"2022-04-08T09:32:59.341401\", \"source\": \"eventhub\"}"
                },
                {
                  "0": "{\"deviceId\": \"tenant1-2\", \"temperature\": -0.9903267944537705, \"ts\": \"2022-04-08T09:32:59.341526\", \"source\": \"eventhub\"}"
                },
                {
                  "0": "{\"deviceId\": \"tenant1-9\", \"temperature\": -46.67606285477438, \"pressure\": 146.99929982629044, \"ts\": \"2022-04-08T09:32:59.341683\", \"source\": \"eventhub\"}"
                },
                {
                  "0": "{\"deviceId\": \"tenant1-4\", \"temperature\": 5.6885475286008775, \"pressure\": 383.2505465548191, \"ts\": \"2022-04-08T09:32:59.341806\", \"source\": \"eventhub\"}"
                },
                {
                  "0": "{\"deviceId\": \"tenant1-3\", \"temperature\": -34.75586782467846, \"ts\": \"2022-04-08T09:32:59.341958\", \"source\": \"eventhub\"}"
                },
                {
                  "0": "{\"deviceId\": \"tenant1-5\", \"temperature\": -16.045392290609033, \"ts\": \"2022-04-08T09:32:59.342071\", \"source\": \"eventhub\"}"
                },
                {
                  "0": "{\"deviceId\": \"tenant1-3\", \"temperature\": -11.3728966042864, \"ts\": \"2022-04-08T09:32:39.990664\", \"source\": \"eventhub\"}"
                },
                {
                  "0": "{\"deviceId\": \"tenant1-1\", \"temperature\": 33.90990570228434, \"pressure\": 288.91890709459636, \"ts\": \"2022-04-08T09:32:39.991208\", \"source\": \"eventhub\"}"
                },
                {
                  "0": "{\"deviceId\": \"tenant1-2\", \"temperature\": -39.2620223566033, \"ts\": \"2022-04-08T09:32:39.991379\", \"source\": \"eventhub\"}"
                },
                {
                  "0": "{\"deviceId\": \"tenant1-8\", \"temperature\": -18.663002165657794, \"ts\": \"2022-04-08T09:32:39.991522\", \"source\": \"eventhub\"}"
                },
                {
                  "0": "{\"deviceId\": \"tenant1-6\", \"temperature\": -27.103430437999688, \"ts\": \"2022-04-08T09:32:39.991663\", \"source\": \"eventhub\"}"
                },
                {
                  "0": "{\"deviceId\": \"tenant1-8\", \"temperature\": -47.74021177911698, \"pressure\": 368.3555992779204, \"ts\": \"2022-04-08T09:32:39.991779\", \"source\": \"eventhub\"}"
                },
                {
                  "0": "{\"deviceId\": \"tenant1-9\", \"temperature\": 0.08278373794236304, \"pressure\": 388.4303533677251, \"ts\": \"2022-04-08T09:32:39.991930\", \"source\": \"eventhub\"}"
                },
                {
                  "0": "{\"deviceId\": \"tenant1-4\", \"temperature\": 19.93733875488393, \"pressure\": 328.21398440640473, \"ts\": \"2022-04-08T09:32:39.992045\", \"source\": \"eventhub\"}"
                },
                {
                  "0": "{\"deviceId\": \"tenant1-8\", \"temperature\": -48.674624023632724, \"ts\": \"2022-04-08T09:32:39.992159\", \"source\": \"eventhub\"}"
                },
                {
                  "0": "{\"deviceId\": \"tenant1-9\", \"temperature\": -12.439553909443656, \"ts\": \"2022-04-08T09:32:39.992288\", \"source\": \"eventhub\"}"
                },
                {
                  "0": "{\"deviceId\": \"tenant1-7\", \"temperature\": -35.96236005933927, \"pressure\": 335.39068261846353, \"ts\": \"2022-04-08T09:32:51.384448\", \"source\": \"eventhub\"}"
                },
                {
                  "0": "{\"deviceId\": \"tenant1-2\", \"temperature\": -13.912477533779484, \"ts\": \"2022-04-08T09:32:51.384748\", \"source\": \"eventhub\"}"
                },
                {
                  "0": "{\"deviceId\": \"tenant1-8\", \"temperature\": 2.9712984745553417, \"ts\": \"2022-04-08T09:32:51.384927\", \"source\": \"eventhub\"}"
                },
                {
                  "0": "{\"deviceId\": \"tenant1-9\", \"temperature\": 1.9359789637080442, \"pressure\": 191.27758735461586, \"ts\": \"2022-04-08T09:32:51.385054\", \"source\": \"eventhub\"}"
                },
                {
                  "0": "{\"deviceId\": \"tenant1-3\", \"temperature\": -5.511180817763878, \"pressure\": 331.3707055976034, \"ts\": \"2022-04-08T09:32:51.385253\", \"source\": \"eventhub\"}"
                },
                {
                  "0": "{\"deviceId\": \"tenant1-6\", \"temperature\": 4.489255962089321, \"ts\": \"2022-04-08T09:32:51.385610\", \"source\": \"eventhub\"}"
                },
                {
                  "0": "{\"deviceId\": \"tenant1-8\", \"temperature\": -14.620012530335519, \"pressure\": 397.4011894660848, \"ts\": \"2022-04-08T09:32:51.385785\", \"source\": \"eventhub\"}"
                },
                {
                  "0": "{\"deviceId\": \"tenant1-4\", \"temperature\": -28.4236625421997, \"pressure\": 379.5312153316689, \"ts\": \"2022-04-08T09:32:51.385909\", \"source\": \"eventhub\"}"
                },
                {
                  "0": "{\"deviceId\": \"tenant1-1\", \"temperature\": -27.875720304403313, \"ts\": \"2022-04-08T09:32:51.386029\", \"source\": \"eventhub\"}"
                },
                {
                  "0": "{\"deviceId\": \"tenant1-3\", \"temperature\": 14.623795747961152, \"pressure\": 201.15604669092133, \"ts\": \"2022-04-08T09:32:51.386148\", \"source\": \"eventhub\"}"
                },
                {
                  "0": "{\"deviceId\": \"tenant1-6\", \"temperature\": 21.36857959993279, \"pressure\": 355.96089542373585, \"ts\": \"2022-04-08T09:32:41.362434\", \"source\": \"eventhub\"}"
                },
                {
                  "0": "{\"deviceId\": \"tenant1-7\", \"temperature\": -14.981762501941763, \"pressure\": 484.5190449793884, \"ts\": \"2022-04-08T09:32:41.362656\", \"source\": \"eventhub\"}"
                },
                {
                  "0": "{\"deviceId\": \"tenant1-6\", \"temperature\": 21.75611285525516, \"pressure\": 227.22741470069596, \"ts\": \"2022-04-08T09:32:41.362889\", \"source\": \"eventhub\"}"
                },
                {
                  "0": "{\"deviceId\": \"tenant1-3\", \"temperature\": 22.099205207406822, \"ts\": \"2022-04-08T09:32:41.363036\", \"source\": \"eventhub\"}"
                },
                {
                  "0": "{\"deviceId\": \"tenant1-6\", \"temperature\": -19.890389621355403, \"pressure\": 187.6349501193079, \"ts\": \"2022-04-08T09:32:41.363281\", \"source\": \"eventhub\"}"
                },
                {
                  "0": "{\"deviceId\": \"tenant1-6\", \"temperature\": 3.2057637774933054, \"ts\": \"2022-04-08T09:32:41.363416\", \"source\": \"eventhub\"}"
                },
                {
                  "0": "{\"deviceId\": \"tenant1-7\", \"temperature\": 11.426044212106712, \"ts\": \"2022-04-08T09:32:41.363530\", \"source\": \"eventhub\"}"
                },
                {
                  "0": "{\"deviceId\": \"tenant1-8\", \"temperature\": -19.935985213368447, \"pressure\": 14.522896821668812, \"ts\": \"2022-04-08T09:32:41.363642\", \"source\": \"eventhub\"}"
                },
                {
                  "0": "{\"deviceId\": \"tenant1-7\", \"temperature\": -46.27486017608791, \"pressure\": 76.07980456209742, \"ts\": \"2022-04-08T09:32:41.363788\", \"source\": \"eventhub\"}"
                },
                {
                  "0": "{\"deviceId\": \"tenant1-7\", \"temperature\": 23.313783389253004, \"pressure\": 386.11510078224484, \"ts\": \"2022-04-08T09:32:41.363928\", \"source\": \"eventhub\"}"
                },
                {
                  "0": "{\"deviceId\": \"tenant1-4\", \"temperature\": -10.200796699642483, \"ts\": \"2022-04-08T09:32:47.386244\", \"source\": \"eventhub\"}"
                },
                {
                  "0": "{\"deviceId\": \"tenant1-8\", \"temperature\": -7.360856060761857, \"pressure\": 337.07631681462726, \"ts\": \"2022-04-08T09:32:47.386543\", \"source\": \"eventhub\"}"
                },
                {
                  "0": "{\"deviceId\": \"tenant1-1\", \"temperature\": -8.16989004755799, \"ts\": \"2022-04-08T09:32:47.386710\", \"source\": \"eventhub\"}"
                },
                {
                  "0": "{\"deviceId\": \"tenant1-3\", \"temperature\": -18.379383528085604, \"pressure\": 169.87446259788413, \"ts\": \"2022-04-08T09:32:47.386839\", \"source\": \"eventhub\"}"
                },
                {
                  "0": "{\"deviceId\": \"tenant1-2\", \"temperature\": -6.8545201895281185, \"pressure\": 101.08450483435959, \"ts\": \"2022-04-08T09:32:47.386961\", \"source\": \"eventhub\"}"
                },
                {
                  "0": "{\"deviceId\": \"tenant1-6\", \"temperature\": 47.345998020051624, \"pressure\": 369.3453211990225, \"ts\": \"2022-04-08T09:32:47.387081\", \"source\": \"eventhub\"}"
                },
                {
                  "0": "{\"deviceId\": \"tenant1-3\", \"temperature\": -1.893487036400237, \"pressure\": 60.436095601720794, \"ts\": \"2022-04-08T09:32:47.387200\", \"source\": \"eventhub\"}"
                },
                {
                  "0": "{\"deviceId\": \"tenant1-1\", \"temperature\": 48.09734312975165, \"ts\": \"2022-04-08T09:32:47.387317\", \"source\": \"eventhub\"}"
                },
                {
                  "0": "{\"deviceId\": \"tenant1-7\", \"temperature\": 15.23372970170993, \"pressure\": 111.02360530838315, \"ts\": \"2022-04-08T09:32:47.387432\", \"source\": \"eventhub\"}"
                },
                {
                  "0": "{\"deviceId\": \"tenant1-3\", \"temperature\": -14.447664630123114, \"pressure\": 120.87325398841281, \"ts\": \"2022-04-08T09:32:47.387547\", \"source\": \"eventhub\"}"
                },
                {
                  "0": "{\"deviceId\": \"tenant1-9\", \"temperature\": -11.681195789208912, \"pressure\": 386.598109896887, \"ts\": \"2022-04-08T09:32:48.037676\", \"source\": \"eventhub\"}"
                },
                {
                  "0": "{\"deviceId\": \"tenant1-2\", \"temperature\": 13.364175629667598, \"pressure\": 263.9696110859544, \"ts\": \"2022-04-08T09:32:48.037829\", \"source\": \"eventhub\"}"
                },
                {
                  "0": "{\"deviceId\": \"tenant1-1\", \"temperature\": -19.832604778156252, \"ts\": \"2022-04-08T09:32:48.037955\", \"source\": \"eventhub\"}"
                },
                {
                  "0": "{\"deviceId\": \"tenant1-8\", \"temperature\": 28.332678018392453, \"ts\": \"2022-04-08T09:32:48.038083\", \"source\": \"eventhub\"}"
                },
                {
                  "0": "{\"deviceId\": \"tenant1-2\", \"temperature\": -48.29052302435078, \"pressure\": 406.88619052875447, \"ts\": \"2022-04-08T09:32:48.038211\", \"source\": \"eventhub\"}"
                },
                {
                  "0": "{\"deviceId\": \"tenant1-9\", \"temperature\": -18.38599298784662, \"pressure\": 87.65495363307073, \"ts\": \"2022-04-08T09:32:48.038346\", \"source\": \"eventhub\"}"
                },
                {
                  "0": "{\"deviceId\": \"tenant1-4\", \"temperature\": -45.13709660892698, \"pressure\": 204.30717032893722, \"ts\": \"2022-04-08T09:32:48.038489\", \"source\": \"eventhub\"}"
                },
                {
                  "0": "{\"deviceId\": \"tenant1-7\", \"temperature\": 4.959741215338916, \"pressure\": 172.95990023798424, \"ts\": \"2022-04-08T09:32:48.038599\", \"source\": \"eventhub\"}"
                },
                {
                  "0": "{\"deviceId\": \"tenant1-9\", \"temperature\": -10.922681299117954, \"ts\": \"2022-04-08T09:32:48.038709\", \"source\": \"eventhub\"}"
                },
                {
                  "0": "{\"deviceId\": \"tenant1-5\", \"temperature\": -13.964457270901635, \"ts\": \"2022-04-08T09:32:48.038819\", \"source\": \"eventhub\"}"
                },
                {
                  "0": "{\"deviceId\": \"tenant1-3\", \"temperature\": -7.160279612912641, \"ts\": \"2022-04-08T09:32:49.415494\", \"source\": \"eventhub\"}"
                },
                {
                  "0": "{\"deviceId\": \"tenant1-8\", \"temperature\": 29.63452072383894, \"ts\": \"2022-04-08T09:32:49.415602\", \"source\": \"eventhub\"}"
                },
                {
                  "0": "{\"deviceId\": \"tenant1-6\", \"temperature\": -19.308779497934392, \"pressure\": 194.04927639428234, \"ts\": \"2022-04-08T09:32:49.415709\", \"source\": \"eventhub\"}"
                },
                {
                  "0": "{\"deviceId\": \"tenant1-9\", \"temperature\": -48.291181197508955, \"ts\": \"2022-04-08T09:32:49.415819\", \"source\": \"eventhub\"}"
                },
                {
                  "0": "{\"deviceId\": \"tenant1-9\", \"temperature\": 11.830015490064538, \"ts\": \"2022-04-08T09:32:49.415928\", \"source\": \"eventhub\"}"
                },
                {
                  "0": "{\"deviceId\": \"tenant1-8\", \"temperature\": -26.363366953084814, \"pressure\": 461.211435054223, \"ts\": \"2022-04-08T09:32:49.416039\", \"source\": \"eventhub\"}"
                },
                {
                  "0": "{\"deviceId\": \"tenant1-1\", \"temperature\": 38.95597800872495, \"pressure\": 98.97956651477622, \"ts\": \"2022-04-08T09:32:49.416149\", \"source\": \"eventhub\"}"
                },
                {
                  "0": "{\"deviceId\": \"tenant1-1\", \"temperature\": -15.111338777697663, \"pressure\": 0.9274639131461799, \"ts\": \"2022-04-08T09:32:49.416310\", \"source\": \"eventhub\"}"
                },
                {
                  "0": "{\"deviceId\": \"tenant1-8\", \"temperature\": -16.34677707878171, \"pressure\": 191.67201386504044, \"ts\": \"2022-04-08T09:32:49.416421\", \"source\": \"eventhub\"}"
                },
                {
                  "0": "{\"deviceId\": \"tenant1-1\", \"temperature\": 39.91430133627198, \"ts\": \"2022-04-08T09:32:49.416545\", \"source\": \"eventhub\"}"
                },
                {
                  "0": "{\"deviceId\": \"tenant1-2\", \"temperature\": -4.414849177720393, \"pressure\": 75.52939311015406, \"ts\": \"2022-04-08T09:32:53.316581\", \"source\": \"eventhub\"}"
                },
                {
                  "0": "{\"deviceId\": \"tenant1-9\", \"temperature\": 40.3654485900341, \"ts\": \"2022-04-08T09:32:53.316699\", \"source\": \"eventhub\"}"
                },
                {
                  "0": "{\"deviceId\": \"tenant1-2\", \"temperature\": -11.620558719861554, \"pressure\": 445.07618385475797, \"ts\": \"2022-04-08T09:32:53.316862\", \"source\": \"eventhub\"}"
                },
                {
                  "0": "{\"deviceId\": \"tenant1-5\", \"temperature\": 15.952083165095543, \"ts\": \"2022-04-08T09:32:53.316974\", \"source\": \"eventhub\"}"
                },
                {
                  "0": "{\"deviceId\": \"tenant1-9\", \"temperature\": -15.227581416637456, \"ts\": \"2022-04-08T09:32:53.317084\", \"source\": \"eventhub\"}"
                },
                {
                  "0": "{\"deviceId\": \"tenant1-5\", \"temperature\": 1.37576721544827, \"ts\": \"2022-04-08T09:32:53.317196\", \"source\": \"eventhub\"}"
                },
                {
                  "0": "{\"deviceId\": \"tenant1-1\", \"temperature\": 10.398442383097152, \"ts\": \"2022-04-08T09:32:53.317305\", \"source\": \"eventhub\"}"
                },
                {
                  "0": "{\"deviceId\": \"tenant1-2\", \"temperature\": 46.87591038743613, \"ts\": \"2022-04-08T09:32:53.317499\", \"source\": \"eventhub\"}"
                },
                {
                  "0": "{\"deviceId\": \"tenant1-1\", \"temperature\": 1.830966255319033, \"pressure\": 469.884005268213, \"ts\": \"2022-04-08T09:32:53.317671\", \"source\": \"eventhub\"}"
                },
                {
                  "0": "{\"deviceId\": \"tenant1-9\", \"temperature\": 48.50443459417979, \"pressure\": 84.65151124080113, \"ts\": \"2022-04-08T09:32:53.317791\", \"source\": \"eventhub\"}"
                },
                {
                  "0": "{\"deviceId\": \"tenant1-6\", \"temperature\": 3.0668855998411004, \"ts\": \"2022-04-08T09:32:42.681858\", \"source\": \"eventhub\"}"
                },
                {
                  "0": "{\"deviceId\": \"tenant1-7\", \"temperature\": 8.549029877199132, \"pressure\": 84.41007029524263, \"ts\": \"2022-04-08T09:32:42.682004\", \"source\": \"eventhub\"}"
                },
                {
                  "0": "{\"deviceId\": \"tenant1-5\", \"temperature\": -45.15128146184441, \"ts\": \"2022-04-08T09:32:42.682122\", \"source\": \"eventhub\"}"
                },
                {
                  "0": "{\"deviceId\": \"tenant1-2\", \"temperature\": -25.435313780243447, \"pressure\": 254.333761013827, \"ts\": \"2022-04-08T09:32:42.682237\", \"source\": \"eventhub\"}"
                },
                {
                  "0": "{\"deviceId\": \"tenant1-7\", \"temperature\": -24.024583160402987, \"ts\": \"2022-04-08T09:32:42.682381\", \"source\": \"eventhub\"}"
                },
                {
                  "0": "{\"deviceId\": \"tenant1-1\", \"temperature\": 13.29570798666037, \"pressure\": 138.71319497061174, \"ts\": \"2022-04-08T09:32:42.682517\", \"source\": \"eventhub\"}"
                },
                {
                  "0": "{\"deviceId\": \"tenant1-6\", \"temperature\": -32.11177885220486, \"ts\": \"2022-04-08T09:32:42.682651\", \"source\": \"eventhub\"}"
                },
                {
                  "0": "{\"deviceId\": \"tenant1-5\", \"temperature\": -47.2644560439917, \"ts\": \"2022-04-08T09:32:42.682769\", \"source\": \"eventhub\"}"
                },
                {
                  "0": "{\"deviceId\": \"tenant1-7\", \"temperature\": -26.24516266470773, \"pressure\": 401.4266565578619, \"ts\": \"2022-04-08T09:32:42.682885\", \"source\": \"eventhub\"}"
                },
                {
                  "0": "{\"deviceId\": \"tenant1-7\", \"temperature\": 41.57782241573097, \"ts\": \"2022-04-08T09:32:42.683004\", \"source\": \"eventhub\"}"
                },
                {
                  "0": "{\"deviceId\": \"tenant1-5\", \"temperature\": -23.567284424422954, \"ts\": \"2022-04-08T09:32:40.689020\", \"source\": \"eventhub\"}"
                },
                {
                  "0": "{\"deviceId\": \"tenant1-3\", \"temperature\": 31.779823170933543, \"ts\": \"2022-04-08T09:32:40.689294\", \"source\": \"eventhub\"}"
                },
                {
                  "0": "{\"deviceId\": \"tenant1-6\", \"temperature\": -33.36296679603319, \"pressure\": 125.63690753236986, \"ts\": \"2022-04-08T09:32:40.689463\", \"source\": \"eventhub\"}"
                },
                {
                  "0": "{\"deviceId\": \"tenant1-8\", \"temperature\": -34.27964472463142, \"pressure\": 127.82743210244266, \"ts\": \"2022-04-08T09:32:40.689594\", \"source\": \"eventhub\"}"
                },
                {
                  "0": "{\"deviceId\": \"tenant1-8\", \"temperature\": -4.842274571560563, \"pressure\": 115.72765347781694, \"ts\": \"2022-04-08T09:32:40.689735\", \"source\": \"eventhub\"}"
                },
                {
                  "0": "{\"deviceId\": \"tenant1-7\", \"temperature\": 3.9417713001305685, \"pressure\": 388.95805067574867, \"ts\": \"2022-04-08T09:32:40.689859\", \"source\": \"eventhub\"}"
                },
                {
                  "0": "{\"deviceId\": \"tenant1-1\", \"temperature\": -46.91409675796963, \"ts\": \"2022-04-08T09:32:40.689980\", \"source\": \"eventhub\"}"
                },
                {
                  "0": "{\"deviceId\": \"tenant1-7\", \"temperature\": 39.61783517909033, \"pressure\": 302.8224738840825, \"ts\": \"2022-04-08T09:32:40.690127\", \"source\": \"eventhub\"}"
                },
                {
                  "0": "{\"deviceId\": \"tenant1-5\", \"temperature\": 2.4415537521642783, \"pressure\": 379.3846050248484, \"ts\": \"2022-04-08T09:32:40.690241\", \"source\": \"eventhub\"}"
                },
                {
                  "0": "{\"deviceId\": \"tenant1-1\", \"temperature\": 15.64770576775498, \"ts\": \"2022-04-08T09:32:40.690353\", \"source\": \"eventhub\"}"
                },
                {
                  "0": "{\"deviceId\": \"tenant1-7\", \"temperature\": 27.623770964329097, \"pressure\": 212.29721530169118, \"ts\": \"2022-04-08T09:32:58.690101\", \"source\": \"eventhub\"}"
                },
                {
                  "0": "{\"deviceId\": \"tenant1-1\", \"temperature\": 48.848818925494676, \"pressure\": 463.2361268909464, \"ts\": \"2022-04-08T09:32:58.690373\", \"source\": \"eventhub\"}"
                },
                {
                  "0": "{\"deviceId\": \"tenant1-5\", \"temperature\": 49.24887144033475, \"ts\": \"2022-04-08T09:32:58.690506\", \"source\": \"eventhub\"}"
                },
                {
                  "0": "{\"deviceId\": \"tenant1-4\", \"temperature\": 40.072306809201464, \"pressure\": 389.9967878219121, \"ts\": \"2022-04-08T09:32:58.690650\", \"source\": \"eventhub\"}"
                },
                {
                  "0": "{\"deviceId\": \"tenant1-1\", \"temperature\": 43.167638439965096, \"pressure\": 7.104203538275962, \"ts\": \"2022-04-08T09:32:58.690822\", \"source\": \"eventhub\"}"
                },
                {
                  "0": "{\"deviceId\": \"tenant1-7\", \"temperature\": 24.45360096460152, \"ts\": \"2022-04-08T09:32:58.690949\", \"source\": \"eventhub\"}"
                },
                {
                  "0": "{\"deviceId\": \"tenant1-5\", \"temperature\": 7.558603279194224, \"pressure\": 309.61976464645596, \"ts\": \"2022-04-08T09:32:58.691097\", \"source\": \"eventhub\"}"
                },
                {
                  "0": "{\"deviceId\": \"tenant1-1\", \"temperature\": 10.01723029510628, \"ts\": \"2022-04-08T09:32:58.691212\", \"source\": \"eventhub\"}"
                },
                {
                  "0": "{\"deviceId\": \"tenant1-8\", \"temperature\": -13.581169587697994, \"pressure\": 45.769012686714696, \"ts\": \"2022-04-08T09:32:58.691324\", \"source\": \"eventhub\"}"
                },
                {
                  "0": "{\"deviceId\": \"tenant1-2\", \"temperature\": -29.868935840715004, \"pressure\": 307.2282377541857, \"ts\": \"2022-04-08T09:32:58.691436\", \"source\": \"eventhub\"}"
                },
                {
                  "0": "{\"deviceId\": \"tenant1-6\", \"temperature\": 5.577951089593599, \"pressure\": 199.23464630692882, \"ts\": \"2022-04-08T09:32:56.724320\", \"source\": \"eventhub\"}"
                },
                {
                  "0": "{\"deviceId\": \"tenant1-9\", \"temperature\": 35.533927449371824, \"pressure\": 343.8303676208982, \"ts\": \"2022-04-08T09:32:56.724439\", \"source\": \"eventhub\"}"
                },
                {
                  "0": "{\"deviceId\": \"tenant1-6\", \"temperature\": 6.686230410201843, \"ts\": \"2022-04-08T09:32:56.724560\", \"source\": \"eventhub\"}"
                },
                {
                  "0": "{\"deviceId\": \"tenant1-5\", \"temperature\": 0.9180641954112212, \"pressure\": 456.0337395740895, \"ts\": \"2022-04-08T09:32:56.724679\", \"source\": \"eventhub\"}"
                },
                {
                  "0": "{\"deviceId\": \"tenant1-7\", \"temperature\": 49.26060273931683, \"pressure\": 370.7415465260249, \"ts\": \"2022-04-08T09:32:56.724865\", \"source\": \"eventhub\"}"
                },
                {
                  "0": "{\"deviceId\": \"tenant1-6\", \"temperature\": -3.5671894602981578, \"pressure\": 14.86889553787869, \"ts\": \"2022-04-08T09:32:56.724996\", \"source\": \"eventhub\"}"
                },
                {
                  "0": "{\"deviceId\": \"tenant1-3\", \"temperature\": -27.227666009535866, \"pressure\": 148.0826988377102, \"ts\": \"2022-04-08T09:32:56.725160\", \"source\": \"eventhub\"}"
                },
                {
                  "0": "{\"deviceId\": \"tenant1-3\", \"temperature\": 20.730470338482814, \"ts\": \"2022-04-08T09:32:56.725288\", \"source\": \"eventhub\"}"
                },
                {
                  "0": "{\"deviceId\": \"tenant1-5\", \"temperature\": -29.931526460640306, \"pressure\": 433.8933451370718, \"ts\": \"2022-04-08T09:32:56.725428\", \"source\": \"eventhub\"}"
                },
                {
                  "0": "{\"deviceId\": \"tenant1-1\", \"temperature\": 11.51641735565802, \"ts\": \"2022-04-08T09:32:56.725558\", \"source\": \"eventhub\"}"
                },
                {
                  "0": "{\"deviceId\": \"tenant1-5\", \"temperature\": -17.347203765956607, \"pressure\": 458.6327594752552, \"ts\": \"2022-04-08T09:32:50.729751\", \"source\": \"eventhub\"}"
                },
                {
                  "0": "{\"deviceId\": \"tenant1-5\", \"temperature\": -28.480907688944303, \"pressure\": 431.3131818771353, \"ts\": \"2022-04-08T09:32:50.729887\", \"source\": \"eventhub\"}"
                },
                {
                  "0": "{\"deviceId\": \"tenant1-9\", \"temperature\": -24.357594912125876, \"pressure\": 48.27728630862525, \"ts\": \"2022-04-08T09:32:50.730005\", \"source\": \"eventhub\"}"
                },
                {
                  "0": "{\"deviceId\": \"tenant1-6\", \"temperature\": 31.068999615862552, \"ts\": \"2022-04-08T09:32:50.730134\", \"source\": \"eventhub\"}"
                },
                {
                  "0": "{\"deviceId\": \"tenant1-1\", \"temperature\": -12.829025403376393, \"ts\": \"2022-04-08T09:32:50.730249\", \"source\": \"eventhub\"}"
                },
                {
                  "0": "{\"deviceId\": \"tenant1-3\", \"temperature\": 19.38258724160856, \"pressure\": 415.36678823956254, \"ts\": \"2022-04-08T09:32:50.730363\", \"source\": \"eventhub\"}"
                },
                {
                  "0": "{\"deviceId\": \"tenant1-6\", \"temperature\": 8.080916765416257, \"pressure\": 378.26082244756554, \"ts\": \"2022-04-08T09:32:50.730494\", \"source\": \"eventhub\"}"
                },
                {
                  "0": "{\"deviceId\": \"tenant1-9\", \"temperature\": 9.580655672940518, \"pressure\": 159.41958940275944, \"ts\": \"2022-04-08T09:32:50.730649\", \"source\": \"eventhub\"}"
                },
                {
                  "0": "{\"deviceId\": \"tenant1-9\", \"temperature\": 20.39864458095737, \"pressure\": 259.42747314624984, \"ts\": \"2022-04-08T09:32:50.730761\", \"source\": \"eventhub\"}"
                },
                {
                  "0": "{\"deviceId\": \"tenant1-2\", \"temperature\": -29.76755459035742, \"ts\": \"2022-04-08T09:32:50.731792\", \"source\": \"eventhub\"}"
                },
                {
                  "0": "{\"deviceId\": \"tenant1-7\", \"temperature\": 38.21547510474312, \"ts\": \"2022-04-08T09:33:00.642877\", \"source\": \"eventhub\"}"
                },
                {
                  "0": "{\"deviceId\": \"tenant1-3\", \"temperature\": -23.859313073090675, \"pressure\": 7.806119944662069, \"ts\": \"2022-04-08T09:33:00.643164\", \"source\": \"eventhub\"}"
                },
                {
                  "0": "{\"deviceId\": \"tenant1-7\", \"temperature\": 30.06890941986043, \"ts\": \"2022-04-08T09:33:00.643292\", \"source\": \"eventhub\"}"
                },
                {
                  "0": "{\"deviceId\": \"tenant1-2\", \"temperature\": -2.191471947373532, \"pressure\": 124.16659406998548, \"ts\": \"2022-04-08T09:33:00.643425\", \"source\": \"eventhub\"}"
                },
                {
                  "0": "{\"deviceId\": \"tenant1-2\", \"temperature\": 15.7421992171081, \"pressure\": 338.58280991295817, \"ts\": \"2022-04-08T09:33:00.643539\", \"source\": \"eventhub\"}"
                },
                {
                  "0": "{\"deviceId\": \"tenant1-6\", \"temperature\": -49.87268554092116, \"pressure\": 187.00874383125364, \"ts\": \"2022-04-08T09:33:00.643650\", \"source\": \"eventhub\"}"
                },
                {
                  "0": "{\"deviceId\": \"tenant1-8\", \"temperature\": 16.642284582345344, \"pressure\": 192.382001668213, \"ts\": \"2022-04-08T09:33:00.643777\", \"source\": \"eventhub\"}"
                },
                {
                  "0": "{\"deviceId\": \"tenant1-4\", \"temperature\": -5.657024788050904, \"ts\": \"2022-04-08T09:33:00.643883\", \"source\": \"eventhub\"}"
                },
                {
                  "0": "{\"deviceId\": \"tenant1-4\", \"temperature\": 25.88450025026192, \"pressure\": 398.1041734861918, \"ts\": \"2022-04-08T09:33:00.643989\", \"source\": \"eventhub\"}"
                },
                {
                  "0": "{\"deviceId\": \"tenant1-9\", \"temperature\": 17.465509819803103, \"ts\": \"2022-04-08T09:33:00.644134\", \"source\": \"eventhub\"}"
                },
                {
                  "0": "{\"deviceId\": \"tenant1-7\", \"temperature\": -0.01083782005223366, \"ts\": \"2022-04-08T09:32:43.348643\", \"source\": \"eventhub\"}"
                },
                {
                  "0": "{\"deviceId\": \"tenant1-3\", \"temperature\": 9.746854511532135, \"ts\": \"2022-04-08T09:32:43.348801\", \"source\": \"eventhub\"}"
                },
                {
                  "0": "{\"deviceId\": \"tenant1-8\", \"temperature\": -16.018882559460216, \"pressure\": 116.73735502607475, \"ts\": \"2022-04-08T09:32:43.348927\", \"source\": \"eventhub\"}"
                },
                {
                  "0": "{\"deviceId\": \"tenant1-2\", \"temperature\": -22.56711406183475, \"ts\": \"2022-04-08T09:32:43.349036\", \"source\": \"eventhub\"}"
                },
                {
                  "0": "{\"deviceId\": \"tenant1-8\", \"temperature\": -33.220047182777236, \"pressure\": 420.268877520932, \"ts\": \"2022-04-08T09:32:43.349161\", \"source\": \"eventhub\"}"
                },
                {
                  "0": "{\"deviceId\": \"tenant1-4\", \"temperature\": 27.604698763662338, \"ts\": \"2022-04-08T09:32:43.349274\", \"source\": \"eventhub\"}"
                },
                {
                  "0": "{\"deviceId\": \"tenant1-7\", \"temperature\": 25.378679437472975, \"ts\": \"2022-04-08T09:32:43.349431\", \"source\": \"eventhub\"}"
                },
                {
                  "0": "{\"deviceId\": \"tenant1-5\", \"temperature\": 27.60022542625431, \"ts\": \"2022-04-08T09:32:43.349560\", \"source\": \"eventhub\"}"
                },
                {
                  "0": "{\"deviceId\": \"tenant1-1\", \"temperature\": 43.64592131514315, \"pressure\": 477.9358050378277, \"ts\": \"2022-04-08T09:32:43.349669\", \"source\": \"eventhub\"}"
                },
                {
                  "0": "{\"deviceId\": \"tenant1-2\", \"temperature\": -15.17016336941971, \"ts\": \"2022-04-08T09:32:43.349816\", \"source\": \"eventhub\"}"
                },
                {
                  "0": "{\"deviceId\": \"tenant1-7\", \"temperature\": 28.491036836297933, \"ts\": \"2022-04-08T09:32:52.037065\", \"source\": \"eventhub\"}"
                },
                {
                  "0": "{\"deviceId\": \"tenant1-2\", \"temperature\": 23.058283172718006, \"pressure\": 439.9688407505892, \"ts\": \"2022-04-08T09:32:52.037345\", \"source\": \"eventhub\"}"
                },
                {
                  "0": "{\"deviceId\": \"tenant1-1\", \"temperature\": 46.67672586612054, \"pressure\": 145.42379889749174, \"ts\": \"2022-04-08T09:32:52.037491\", \"source\": \"eventhub\"}"
                },
                {
                  "0": "{\"deviceId\": \"tenant1-6\", \"temperature\": 29.644402417336067, \"ts\": \"2022-04-08T09:32:52.037652\", \"source\": \"eventhub\"}"
                },
                {
                  "0": "{\"deviceId\": \"tenant1-3\", \"temperature\": -43.238760504166066, \"pressure\": 448.52510434922056, \"ts\": \"2022-04-08T09:32:52.037846\", \"source\": \"eventhub\"}"
                },
                {
                  "0": "{\"deviceId\": \"tenant1-6\", \"temperature\": -17.90084037295482, \"pressure\": 110.98685129553006, \"ts\": \"2022-04-08T09:32:52.037970\", \"source\": \"eventhub\"}"
                },
                {
                  "0": "{\"deviceId\": \"tenant1-1\", \"temperature\": -47.98960997099528, \"pressure\": 275.5315428194469, \"ts\": \"2022-04-08T09:32:52.038094\", \"source\": \"eventhub\"}"
                },
                {
                  "0": "{\"deviceId\": \"tenant1-5\", \"temperature\": 16.46572613237343, \"ts\": \"2022-04-08T09:32:52.038230\", \"source\": \"eventhub\"}"
                },
                {
                  "0": "{\"deviceId\": \"tenant1-7\", \"temperature\": -19.47242360576159, \"ts\": \"2022-04-08T09:32:52.038347\", \"source\": \"eventhub\"}"
                },
                {
                  "0": "{\"deviceId\": \"tenant1-8\", \"temperature\": -45.14477516750291, \"ts\": \"2022-04-08T09:32:52.038464\", \"source\": \"eventhub\"}"
                },
                {
                  "0": "{\"deviceId\": \"tenant1-5\", \"temperature\": -29.123531891888387, \"ts\": \"2022-04-08T09:32:46.727843\", \"source\": \"eventhub\"}"
                },
                {
                  "0": "{\"deviceId\": \"tenant1-8\", \"temperature\": 27.986574822843526, \"ts\": \"2022-04-08T09:32:46.728116\", \"source\": \"eventhub\"}"
                },
                {
                  "0": "{\"deviceId\": \"tenant1-2\", \"temperature\": 42.10099063081932, \"pressure\": 142.91254930285726, \"ts\": \"2022-04-08T09:32:46.728287\", \"source\": \"eventhub\"}"
                },
                {
                  "0": "{\"deviceId\": \"tenant1-8\", \"temperature\": -10.391497937640262, \"ts\": \"2022-04-08T09:32:46.729692\", \"source\": \"eventhub\"}"
                },
                {
                  "0": "{\"deviceId\": \"tenant1-4\", \"temperature\": 41.2621897329223, \"ts\": \"2022-04-08T09:32:46.729860\", \"source\": \"eventhub\"}"
                },
                {
                  "0": "{\"deviceId\": \"tenant1-2\", \"temperature\": 12.294460563889416, \"pressure\": 204.22216990672513, \"ts\": \"2022-04-08T09:32:46.729996\", \"source\": \"eventhub\"}"
                },
                {
                  "0": "{\"deviceId\": \"tenant1-9\", \"temperature\": -47.37020320851622, \"ts\": \"2022-04-08T09:32:46.730181\", \"source\": \"eventhub\"}"
                },
                {
                  "0": "{\"deviceId\": \"tenant1-2\", \"temperature\": -43.210256441333556, \"pressure\": 277.6014714554636, \"ts\": \"2022-04-08T09:32:46.730313\", \"source\": \"eventhub\"}"
                },
                {
                  "0": "{\"deviceId\": \"tenant1-5\", \"temperature\": -30.581226754811475, \"ts\": \"2022-04-08T09:32:46.730439\", \"source\": \"eventhub\"}"
                },
                {
                  "0": "{\"deviceId\": \"tenant1-7\", \"temperature\": -35.58475586284582, \"pressure\": 382.7962295803715, \"ts\": \"2022-04-08T09:32:46.730563\", \"source\": \"eventhub\"}"
                },
                {
                  "0": "{\"deviceId\": \"tenant1-8\", \"temperature\": -17.40228361191206, \"pressure\": 484.1902439950849, \"ts\": \"2022-04-08T09:32:50.728124\", \"source\": \"eventhub\"}"
                },
                {
                  "0": "{\"deviceId\": \"tenant1-1\", \"temperature\": 37.29512908790547, \"pressure\": 220.32038971851657, \"ts\": \"2022-04-08T09:32:50.728409\", \"source\": \"eventhub\"}"
                },
                {
                  "0": "{\"deviceId\": \"tenant1-3\", \"temperature\": -26.613985435335614, \"ts\": \"2022-04-08T09:32:50.728571\", \"source\": \"eventhub\"}"
                },
                {
                  "0": "{\"deviceId\": \"tenant1-8\", \"temperature\": 11.09836652386674, \"pressure\": 390.1241383964196, \"ts\": \"2022-04-08T09:32:50.728710\", \"source\": \"eventhub\"}"
                },
                {
                  "0": "{\"deviceId\": \"tenant1-9\", \"temperature\": 39.00111143357755, \"ts\": \"2022-04-08T09:32:50.728864\", \"source\": \"eventhub\"}"
                },
                {
                  "0": "{\"deviceId\": \"tenant1-2\", \"temperature\": -45.712450470658226, \"ts\": \"2022-04-08T09:32:50.728990\", \"source\": \"eventhub\"}"
                },
                {
                  "0": "{\"deviceId\": \"tenant1-5\", \"temperature\": -15.54682647463916, \"pressure\": 208.65323620460944, \"ts\": \"2022-04-08T09:32:50.729110\", \"source\": \"eventhub\"}"
                },
                {
                  "0": "{\"deviceId\": \"tenant1-9\", \"temperature\": 19.549132777492467, \"pressure\": 390.4336726023466, \"ts\": \"2022-04-08T09:32:50.729286\", \"source\": \"eventhub\"}"
                },
                {
                  "0": "{\"deviceId\": \"tenant1-7\", \"temperature\": -49.19605942271952, \"ts\": \"2022-04-08T09:32:50.729481\", \"source\": \"eventhub\"}"
                },
                {
                  "0": "{\"deviceId\": \"tenant1-3\", \"temperature\": 2.8583635760177852, \"ts\": \"2022-04-08T09:32:50.729604\", \"source\": \"eventhub\"}"
                },
                {
                  "0": "{\"deviceId\": \"tenant1-1\", \"temperature\": 10.966276351055528, \"pressure\": 241.5447703163005, \"ts\": \"2022-04-08T09:32:44.693526\", \"source\": \"eventhub\"}"
                },
                {
                  "0": "{\"deviceId\": \"tenant1-7\", \"temperature\": -14.581303787621492, \"ts\": \"2022-04-08T09:32:44.693684\", \"source\": \"eventhub\"}"
                },
                {
                  "0": "{\"deviceId\": \"tenant1-6\", \"temperature\": -2.0252541843026517, \"pressure\": 463.1365761856069, \"ts\": \"2022-04-08T09:32:44.693806\", \"source\": \"eventhub\"}"
                },
                {
                  "0": "{\"deviceId\": \"tenant1-5\", \"temperature\": 28.522074913699942, \"ts\": \"2022-04-08T09:32:44.693927\", \"source\": \"eventhub\"}"
                },
                {
                  "0": "{\"deviceId\": \"tenant1-4\", \"temperature\": -38.5173130615881, \"ts\": \"2022-04-08T09:32:44.694060\", \"source\": \"eventhub\"}"
                },
                {
                  "0": "{\"deviceId\": \"tenant1-9\", \"temperature\": -21.452919988036705, \"pressure\": 281.0175328988801, \"ts\": \"2022-04-08T09:32:44.694172\", \"source\": \"eventhub\"}"
                },
                {
                  "0": "{\"deviceId\": \"tenant1-6\", \"temperature\": -17.29550661383515, \"pressure\": 393.9714713520565, \"ts\": \"2022-04-08T09:32:44.694306\", \"source\": \"eventhub\"}"
                },
                {
                  "0": "{\"deviceId\": \"tenant1-9\", \"temperature\": -42.79352462475307, \"ts\": \"2022-04-08T09:32:44.694425\", \"source\": \"eventhub\"}"
                },
                {
                  "0": "{\"deviceId\": \"tenant1-2\", \"temperature\": -8.628935995386643, \"ts\": \"2022-04-08T09:32:44.694558\", \"source\": \"eventhub\"}"
                },
                {
                  "0": "{\"deviceId\": \"tenant1-1\", \"temperature\": 44.784603795685825, \"pressure\": 57.90094378723378, \"ts\": \"2022-04-08T09:32:44.694680\", \"source\": \"eventhub\"}"
                },
                {
                  "0": "{\"deviceId\": \"tenant1-4\", \"temperature\": -22.28691658646318, \"ts\": \"2022-04-08T09:32:53.314988\", \"source\": \"eventhub\"}"
                },
                {
                  "0": "{\"deviceId\": \"tenant1-1\", \"temperature\": -0.45205520993877923, \"pressure\": 250.42832150111462, \"ts\": \"2022-04-08T09:32:53.315255\", \"source\": \"eventhub\"}"
                },
                {
                  "0": "{\"deviceId\": \"tenant1-9\", \"temperature\": 33.09760477861432, \"ts\": \"2022-04-08T09:32:53.315413\", \"source\": \"eventhub\"}"
                },
                {
                  "0": "{\"deviceId\": \"tenant1-4\", \"temperature\": 20.587643010586714, \"pressure\": 66.04304175338137, \"ts\": \"2022-04-08T09:32:53.315540\", \"source\": \"eventhub\"}"
                },
                {
                  "0": "{\"deviceId\": \"tenant1-8\", \"temperature\": 40.5659082876853, \"ts\": \"2022-04-08T09:32:53.315662\", \"source\": \"eventhub\"}"
                },
                {
                  "0": "{\"deviceId\": \"tenant1-8\", \"temperature\": 34.271734895063254, \"pressure\": 331.2531570911797, \"ts\": \"2022-04-08T09:32:53.315780\", \"source\": \"eventhub\"}"
                },
                {
                  "0": "{\"deviceId\": \"tenant1-5\", \"temperature\": 49.530721060377424, \"ts\": \"2022-04-08T09:32:53.315913\", \"source\": \"eventhub\"}"
                },
                {
                  "0": "{\"deviceId\": \"tenant1-2\", \"temperature\": 41.25243822867606, \"pressure\": 380.09370505272716, \"ts\": \"2022-04-08T09:32:53.316039\", \"source\": \"eventhub\"}"
                },
                {
                  "0": "{\"deviceId\": \"tenant1-5\", \"temperature\": 33.944985900721626, \"pressure\": 365.47441330647666, \"ts\": \"2022-04-08T09:32:53.316151\", \"source\": \"eventhub\"}"
                },
                {
                  "0": "{\"deviceId\": \"tenant1-3\", \"temperature\": -20.830913635189354, \"ts\": \"2022-04-08T09:32:53.316439\", \"source\": \"eventhub\"}"
                },
                {
                  "0": "{\"deviceId\": \"tenant1-3\", \"temperature\": 44.2570359506849, \"pressure\": 113.99622883257683, \"ts\": \"2022-04-08T09:32:46.730687\", \"source\": \"eventhub\"}"
                },
                {
                  "0": "{\"deviceId\": \"tenant1-9\", \"temperature\": -41.989385175292654, \"ts\": \"2022-04-08T09:32:46.730808\", \"source\": \"eventhub\"}"
                },
                {
                  "0": "{\"deviceId\": \"tenant1-8\", \"temperature\": 15.230814624912574, \"pressure\": 112.2339229884411, \"ts\": \"2022-04-08T09:32:46.730926\", \"source\": \"eventhub\"}"
                },
                {
                  "0": "{\"deviceId\": \"tenant1-7\", \"temperature\": -38.38942501267976, \"ts\": \"2022-04-08T09:32:46.731044\", \"source\": \"eventhub\"}"
                },
                {
                  "0": "{\"deviceId\": \"tenant1-4\", \"temperature\": 23.583463270810977, \"ts\": \"2022-04-08T09:32:46.731160\", \"source\": \"eventhub\"}"
                },
                {
                  "0": "{\"deviceId\": \"tenant1-3\", \"temperature\": 43.19226708328901, \"pressure\": 305.2261945644246, \"ts\": \"2022-04-08T09:32:46.731278\", \"source\": \"eventhub\"}"
                },
                {
                  "0": "{\"deviceId\": \"tenant1-2\", \"temperature\": -2.2258756371221167, \"ts\": \"2022-04-08T09:32:46.731396\", \"source\": \"eventhub\"}"
                },
                {
                  "0": "{\"deviceId\": \"tenant1-1\", \"temperature\": -24.88857303495835, \"pressure\": 454.6085458552461, \"ts\": \"2022-04-08T09:32:46.731514\", \"source\": \"eventhub\"}"
                },
                {
                  "0": "{\"deviceId\": \"tenant1-7\", \"temperature\": -23.613565823081494, \"pressure\": 302.2346602740505, \"ts\": \"2022-04-08T09:32:46.731631\", \"source\": \"eventhub\"}"
                },
                {
                  "0": "{\"deviceId\": \"tenant1-4\", \"temperature\": 5.886445887397713, \"ts\": \"2022-04-08T09:32:46.731748\", \"source\": \"eventhub\"}"
                },
                {
                  "0": "{\"deviceId\": \"tenant1-1\", \"temperature\": 34.43628089631629, \"ts\": \"2022-04-08T09:32:47.387660\", \"source\": \"eventhub\"}"
                },
                {
                  "0": "{\"deviceId\": \"tenant1-4\", \"temperature\": 42.03756814297745, \"pressure\": 49.27829443180758, \"ts\": \"2022-04-08T09:32:47.387778\", \"source\": \"eventhub\"}"
                },
                {
                  "0": "{\"deviceId\": \"tenant1-8\", \"temperature\": 41.28260756504799, \"pressure\": 394.2409626792336, \"ts\": \"2022-04-08T09:32:47.387892\", \"source\": \"eventhub\"}"
                },
                {
                  "0": "{\"deviceId\": \"tenant1-1\", \"temperature\": -38.05644118828502, \"ts\": \"2022-04-08T09:32:47.388004\", \"source\": \"eventhub\"}"
                },
                {
                  "0": "{\"deviceId\": \"tenant1-8\", \"temperature\": 42.69409140587055, \"pressure\": 380.3509600179021, \"ts\": \"2022-04-08T09:32:47.388116\", \"source\": \"eventhub\"}"
                },
                {
                  "0": "{\"deviceId\": \"tenant1-9\", \"temperature\": 46.77498040147912, \"pressure\": 42.288202278849, \"ts\": \"2022-04-08T09:32:47.388228\", \"source\": \"eventhub\"}"
                },
                {
                  "0": "{\"deviceId\": \"tenant1-1\", \"temperature\": 5.731271020563823, \"ts\": \"2022-04-08T09:32:47.388343\", \"source\": \"eventhub\"}"
                },
                {
                  "0": "{\"deviceId\": \"tenant1-6\", \"temperature\": 31.10235175968938, \"pressure\": 80.15763192434281, \"ts\": \"2022-04-08T09:32:47.388474\", \"source\": \"eventhub\"}"
                },
                {
                  "0": "{\"deviceId\": \"tenant1-7\", \"temperature\": -4.8306772452488325, \"pressure\": 439.25543890299724, \"ts\": \"2022-04-08T09:32:47.388583\", \"source\": \"eventhub\"}"
                },
                {
                  "0": "{\"deviceId\": \"tenant1-6\", \"temperature\": 48.837321768523665, \"ts\": \"2022-04-08T09:32:47.388694\", \"source\": \"eventhub\"}"
                },
                {
                  "0": "{\"deviceId\": \"tenant1-7\", \"temperature\": 40.093784978949, \"ts\": \"2022-04-08T09:32:54.756471\", \"source\": \"eventhub\"}"
                },
                {
                  "0": "{\"deviceId\": \"tenant1-8\", \"temperature\": -20.300715670074045, \"ts\": \"2022-04-08T09:32:54.756583\", \"source\": \"eventhub\"}"
                },
                {
                  "0": "{\"deviceId\": \"tenant1-6\", \"temperature\": 21.308853958511598, \"pressure\": 125.37427104024906, \"ts\": \"2022-04-08T09:32:54.756695\", \"source\": \"eventhub\"}"
                },
                {
                  "0": "{\"deviceId\": \"tenant1-4\", \"temperature\": -45.75146294578582, \"ts\": \"2022-04-08T09:32:54.756809\", \"source\": \"eventhub\"}"
                },
                {
                  "0": "{\"deviceId\": \"tenant1-2\", \"temperature\": 22.11387491086445, \"pressure\": 464.2864619845609, \"ts\": \"2022-04-08T09:32:54.756959\", \"source\": \"eventhub\"}"
                },
                {
                  "0": "{\"deviceId\": \"tenant1-1\", \"temperature\": 36.22255263236074, \"pressure\": 363.14584870552335, \"ts\": \"2022-04-08T09:32:54.757078\", \"source\": \"eventhub\"}"
                },
                {
                  "0": "{\"deviceId\": \"tenant1-3\", \"temperature\": -36.96802773779952, \"ts\": \"2022-04-08T09:32:54.757198\", \"source\": \"eventhub\"}"
                },
                {
                  "0": "{\"deviceId\": \"tenant1-9\", \"temperature\": 15.621878965063848, \"ts\": \"2022-04-08T09:32:54.757375\", \"source\": \"eventhub\"}"
                },
                {
                  "0": "{\"deviceId\": \"tenant1-7\", \"temperature\": 24.819748976600426, \"pressure\": 412.570358894353, \"ts\": \"2022-04-08T09:32:54.757495\", \"source\": \"eventhub\"}"
                },
                {
                  "0": "{\"deviceId\": \"tenant1-2\", \"temperature\": -4.501016992277328, \"pressure\": 33.92431296988345, \"ts\": \"2022-04-08T09:32:54.757715\", \"source\": \"eventhub\"}"
                },
                {
                  "0": "{\"deviceId\": \"tenant1-6\", \"temperature\": -47.57333956707003, \"ts\": \"2022-04-08T09:32:55.410213\", \"source\": \"eventhub\"}"
                },
                {
                  "0": "{\"deviceId\": \"tenant1-5\", \"temperature\": 41.076560506196714, \"ts\": \"2022-04-08T09:32:55.410321\", \"source\": \"eventhub\"}"
                },
                {
                  "0": "{\"deviceId\": \"tenant1-1\", \"temperature\": 36.99490868918076, \"pressure\": 191.26162144504323, \"ts\": \"2022-04-08T09:32:55.410429\", \"source\": \"eventhub\"}"
                },
                {
                  "0": "{\"deviceId\": \"tenant1-7\", \"temperature\": 23.663808107979072, \"pressure\": 76.94139987292672, \"ts\": \"2022-04-08T09:32:55.410537\", \"source\": \"eventhub\"}"
                },
                {
                  "0": "{\"deviceId\": \"tenant1-7\", \"temperature\": 15.992799455637426, \"ts\": \"2022-04-08T09:32:55.410646\", \"source\": \"eventhub\"}"
                },
                {
                  "0": "{\"deviceId\": \"tenant1-2\", \"temperature\": 30.773033551112597, \"pressure\": 473.4197381469252, \"ts\": \"2022-04-08T09:32:55.410755\", \"source\": \"eventhub\"}"
                },
                {
                  "0": "{\"deviceId\": \"tenant1-3\", \"temperature\": 17.678046474161633, \"pressure\": 246.0068025851346, \"ts\": \"2022-04-08T09:32:55.410879\", \"source\": \"eventhub\"}"
                },
                {
                  "0": "{\"deviceId\": \"tenant1-6\", \"temperature\": -49.75448022979003, \"ts\": \"2022-04-08T09:32:55.410985\", \"source\": \"eventhub\"}"
                },
                {
                  "0": "{\"deviceId\": \"tenant1-8\", \"temperature\": 10.062347553971472, \"ts\": \"2022-04-08T09:32:55.411129\", \"source\": \"eventhub\"}"
                },
                {
                  "0": "{\"deviceId\": \"tenant1-1\", \"temperature\": -20.212784649446906, \"pressure\": 96.84355871052287, \"ts\": \"2022-04-08T09:32:55.411270\", \"source\": \"eventhub\"}"
                },
                {
                  "0": "{\"deviceId\": \"tenant1-5\", \"temperature\": 8.9827867170453, \"pressure\": 230.67594254666818, \"ts\": \"2022-04-08T09:32:46.016177\", \"source\": \"eventhub\"}"
                },
                {
                  "0": "{\"deviceId\": \"tenant1-6\", \"temperature\": -42.003134794747275, \"pressure\": 262.36417747608556, \"ts\": \"2022-04-08T09:32:46.016287\", \"source\": \"eventhub\"}"
                },
                {
                  "0": "{\"deviceId\": \"tenant1-9\", \"temperature\": -10.97358378450469, \"pressure\": 326.75395331495673, \"ts\": \"2022-04-08T09:32:46.016397\", \"source\": \"eventhub\"}"
                },
                {
                  "0": "{\"deviceId\": \"tenant1-9\", \"temperature\": 48.8256312119239, \"ts\": \"2022-04-08T09:32:46.016503\", \"source\": \"eventhub\"}"
                },
                {
                  "0": "{\"deviceId\": \"tenant1-3\", \"temperature\": -4.035480863491159, \"ts\": \"2022-04-08T09:32:46.016616\", \"source\": \"eventhub\"}"
                },
                {
                  "0": "{\"deviceId\": \"tenant1-1\", \"temperature\": 36.18424896502887, \"ts\": \"2022-04-08T09:32:46.016724\", \"source\": \"eventhub\"}"
                },
                {
                  "0": "{\"deviceId\": \"tenant1-7\", \"temperature\": -48.90992079265045, \"ts\": \"2022-04-08T09:32:46.016830\", \"source\": \"eventhub\"}"
                },
                {
                  "0": "{\"deviceId\": \"tenant1-7\", \"temperature\": -18.893864409707223, \"ts\": \"2022-04-08T09:32:46.016936\", \"source\": \"eventhub\"}"
                },
                {
                  "0": "{\"deviceId\": \"tenant1-4\", \"temperature\": 43.81264589592365, \"pressure\": 397.2825255155855, \"ts\": \"2022-04-08T09:32:46.017041\", \"source\": \"eventhub\"}"
                },
                {
                  "0": "{\"deviceId\": \"tenant1-1\", \"temperature\": -19.552631177521764, \"pressure\": 312.2105460520959, \"ts\": \"2022-04-08T09:32:46.017163\", \"source\": \"eventhub\"}"
                },
                {
                  "0": "{\"deviceId\": \"tenant1-2\", \"temperature\": -20.90807742712881, \"pressure\": 33.95010747229076, \"ts\": \"2022-04-08T09:32:43.347030\", \"source\": \"eventhub\"}"
                },
                {
                  "0": "{\"deviceId\": \"tenant1-1\", \"temperature\": -17.389973740895016, \"pressure\": 93.35576918170888, \"ts\": \"2022-04-08T09:32:43.347390\", \"source\": \"eventhub\"}"
                },
                {
                  "0": "{\"deviceId\": \"tenant1-7\", \"temperature\": -15.388022585213603, \"ts\": \"2022-04-08T09:32:43.347547\", \"source\": \"eventhub\"}"
                },
                {
                  "0": "{\"deviceId\": \"tenant1-2\", \"temperature\": -4.740585324590413, \"ts\": \"2022-04-08T09:32:43.347667\", \"source\": \"eventhub\"}"
                },
                {
                  "0": "{\"deviceId\": \"tenant1-2\", \"temperature\": 27.48199136150241, \"pressure\": 309.2499051287545, \"ts\": \"2022-04-08T09:32:43.347781\", \"source\": \"eventhub\"}"
                },
                {
                  "0": "{\"deviceId\": \"tenant1-2\", \"temperature\": -29.737946871935925, \"pressure\": 368.6506496251498, \"ts\": \"2022-04-08T09:32:43.347933\", \"source\": \"eventhub\"}"
                },
                {
                  "0": "{\"deviceId\": \"tenant1-5\", \"temperature\": 39.90051339777474, \"ts\": \"2022-04-08T09:32:43.348074\", \"source\": \"eventhub\"}"
                },
                {
                  "0": "{\"deviceId\": \"tenant1-3\", \"temperature\": -12.653861076763633, \"ts\": \"2022-04-08T09:32:43.348194\", \"source\": \"eventhub\"}"
                },
                {
                  "0": "{\"deviceId\": \"tenant1-8\", \"temperature\": -33.98707134611866, \"pressure\": 286.8646495706427, \"ts\": \"2022-04-08T09:32:43.348368\", \"source\": \"eventhub\"}"
                },
                {
                  "0": "{\"deviceId\": \"tenant1-9\", \"temperature\": 27.761877676364268, \"ts\": \"2022-04-08T09:32:43.348509\", \"source\": \"eventhub\"}"
                },
                {
                  "0": "{\"deviceId\": \"tenant1-7\", \"temperature\": -48.395027083573396, \"pressure\": 476.8475215654482, \"ts\": \"2022-04-08T09:32:42.680309\", \"source\": \"eventhub\"}"
                },
                {
                  "0": "{\"deviceId\": \"tenant1-2\", \"temperature\": 35.9558466089541, \"pressure\": 396.34123578569313, \"ts\": \"2022-04-08T09:32:42.680626\", \"source\": \"eventhub\"}"
                },
                {
                  "0": "{\"deviceId\": \"tenant1-6\", \"temperature\": -32.51525987694451, \"pressure\": 365.3400147043704, \"ts\": \"2022-04-08T09:32:42.680782\", \"source\": \"eventhub\"}"
                },
                {
                  "0": "{\"deviceId\": \"tenant1-3\", \"temperature\": -32.807864613560064, \"ts\": \"2022-04-08T09:32:42.680943\", \"source\": \"eventhub\"}"
                },
                {
                  "0": "{\"deviceId\": \"tenant1-7\", \"temperature\": -32.320931689351625, \"ts\": \"2022-04-08T09:32:42.681082\", \"source\": \"eventhub\"}"
                },
                {
                  "0": "{\"deviceId\": \"tenant1-7\", \"temperature\": -7.362185952532652, \"pressure\": 110.84871355802055, \"ts\": \"2022-04-08T09:32:42.681201\", \"source\": \"eventhub\"}"
                },
                {
                  "0": "{\"deviceId\": \"tenant1-5\", \"temperature\": 27.96124864508828, \"ts\": \"2022-04-08T09:32:42.681368\", \"source\": \"eventhub\"}"
                },
                {
                  "0": "{\"deviceId\": \"tenant1-9\", \"temperature\": 7.867913637315565, \"ts\": \"2022-04-08T09:32:42.681491\", \"source\": \"eventhub\"}"
                },
                {
                  "0": "{\"deviceId\": \"tenant1-3\", \"temperature\": 20.082769354292534, \"ts\": \"2022-04-08T09:32:42.681607\", \"source\": \"eventhub\"}"
                },
                {
                  "0": "{\"deviceId\": \"tenant1-7\", \"temperature\": 28.0268291810779, \"pressure\": 442.9700924305953, \"ts\": \"2022-04-08T09:32:42.681740\", \"source\": \"eventhub\"}"
                },
                {
                  "0": "{\"deviceId\": \"tenant1-2\", \"temperature\": -24.302528366141114, \"ts\": \"2022-04-08T09:32:57.379247\", \"source\": \"eventhub\"}"
                },
                {
                  "0": "{\"deviceId\": \"tenant1-1\", \"temperature\": 40.5686745966591, \"pressure\": 474.790493549645, \"ts\": \"2022-04-08T09:32:57.379547\", \"source\": \"eventhub\"}"
                },
                {
                  "0": "{\"deviceId\": \"tenant1-8\", \"temperature\": 40.429932800393054, \"ts\": \"2022-04-08T09:32:57.379689\", \"source\": \"eventhub\"}"
                },
                {
                  "0": "{\"deviceId\": \"tenant1-2\", \"temperature\": 19.586272508552195, \"pressure\": 464.1633137785929, \"ts\": \"2022-04-08T09:32:57.379818\", \"source\": \"eventhub\"}"
                },
                {
                  "0": "{\"deviceId\": \"tenant1-1\", \"temperature\": 7.718814465593658, \"pressure\": 356.56150905123843, \"ts\": \"2022-04-08T09:32:57.379974\", \"source\": \"eventhub\"}"
                },
                {
                  "0": "{\"deviceId\": \"tenant1-2\", \"temperature\": -23.87127882207857, \"pressure\": 298.5711953396148, \"ts\": \"2022-04-08T09:32:57.380115\", \"source\": \"eventhub\"}"
                },
                {
                  "0": "{\"deviceId\": \"tenant1-2\", \"temperature\": 38.23243169315929, \"ts\": \"2022-04-08T09:32:57.380321\", \"source\": \"eventhub\"}"
                },
                {
                  "0": "{\"deviceId\": \"tenant1-5\", \"temperature\": -34.65146596199237, \"ts\": \"2022-04-08T09:32:57.380475\", \"source\": \"eventhub\"}"
                },
                {
                  "0": "{\"deviceId\": \"tenant1-6\", \"temperature\": -42.062186311806386, \"ts\": \"2022-04-08T09:32:57.380603\", \"source\": \"eventhub\"}"
                },
                {
                  "0": "{\"deviceId\": \"tenant1-6\", \"temperature\": 35.66325930758744, \"pressure\": 270.6812286104563, \"ts\": \"2022-04-08T09:32:57.380745\", \"source\": \"eventhub\"}"
                },
                {
                  "0": "{\"deviceId\": \"tenant1-6\", \"temperature\": 25.266040576346178, \"pressure\": 135.08413792750792, \"ts\": \"2022-04-08T09:32:42.029907\", \"source\": \"eventhub\"}"
                },
                {
                  "0": "{\"deviceId\": \"tenant1-3\", \"temperature\": 27.952867144663525, \"ts\": \"2022-04-08T09:32:42.030040\", \"source\": \"eventhub\"}"
                },
                {
                  "0": "{\"deviceId\": \"tenant1-8\", \"temperature\": 30.36537652349055, \"pressure\": 487.2733876632477, \"ts\": \"2022-04-08T09:32:42.030163\", \"source\": \"eventhub\"}"
                },
                {
                  "0": "{\"deviceId\": \"tenant1-4\", \"temperature\": -0.15746402425854333, \"pressure\": 376.0629866525912, \"ts\": \"2022-04-08T09:32:42.030284\", \"source\": \"eventhub\"}"
                },
                {
                  "0": "{\"deviceId\": \"tenant1-7\", \"temperature\": -11.200397777869957, \"ts\": \"2022-04-08T09:32:42.030405\", \"source\": \"eventhub\"}"
                },
                {
                  "0": "{\"deviceId\": \"tenant1-8\", \"temperature\": 17.72830538106044, \"ts\": \"2022-04-08T09:32:42.030522\", \"source\": \"eventhub\"}"
                },
                {
                  "0": "{\"deviceId\": \"tenant1-9\", \"temperature\": 28.70319954372594, \"ts\": \"2022-04-08T09:32:42.030637\", \"source\": \"eventhub\"}"
                },
                {
                  "0": "{\"deviceId\": \"tenant1-3\", \"temperature\": 31.022049354213173, \"ts\": \"2022-04-08T09:32:42.030757\", \"source\": \"eventhub\"}"
                },
                {
                  "0": "{\"deviceId\": \"tenant1-1\", \"temperature\": -28.22239663430413, \"pressure\": 132.12262922776694, \"ts\": \"2022-04-08T09:32:42.030874\", \"source\": \"eventhub\"}"
                },
                {
                  "0": "{\"deviceId\": \"tenant1-5\", \"temperature\": -43.57542832688317, \"ts\": \"2022-04-08T09:32:42.030992\", \"source\": \"eventhub\"}"
                },
                {
                  "0": "{\"deviceId\": \"tenant1-9\", \"temperature\": -22.449856915664636, \"pressure\": 220.87228046897278, \"ts\": \"2022-04-08T09:32:51.386276\", \"source\": \"eventhub\"}"
                },
                {
                  "0": "{\"deviceId\": \"tenant1-2\", \"temperature\": 42.10013097830906, \"ts\": \"2022-04-08T09:32:51.386391\", \"source\": \"eventhub\"}"
                },
                {
                  "0": "{\"deviceId\": \"tenant1-4\", \"temperature\": 9.80317428513823, \"ts\": \"2022-04-08T09:32:51.386507\", \"source\": \"eventhub\"}"
                },
                {
                  "0": "{\"deviceId\": \"tenant1-8\", \"temperature\": 48.37335977516438, \"ts\": \"2022-04-08T09:32:51.386620\", \"source\": \"eventhub\"}"
                },
                {
                  "0": "{\"deviceId\": \"tenant1-4\", \"temperature\": -19.032285365246157, \"ts\": \"2022-04-08T09:32:51.386733\", \"source\": \"eventhub\"}"
                },
                {
                  "0": "{\"deviceId\": \"tenant1-8\", \"temperature\": -42.81161359564542, \"ts\": \"2022-04-08T09:32:51.386845\", \"source\": \"eventhub\"}"
                },
                {
                  "0": "{\"deviceId\": \"tenant1-4\", \"temperature\": -14.188133449196972, \"pressure\": 11.67959171742667, \"ts\": \"2022-04-08T09:32:51.386957\", \"source\": \"eventhub\"}"
                },
                {
                  "0": "{\"deviceId\": \"tenant1-3\", \"temperature\": -15.560325876535684, \"pressure\": 142.68674388411625, \"ts\": \"2022-04-08T09:32:51.387073\", \"source\": \"eventhub\"}"
                },
                {
                  "0": "{\"deviceId\": \"tenant1-2\", \"temperature\": -32.503488378341316, \"ts\": \"2022-04-08T09:32:51.387187\", \"source\": \"eventhub\"}"
                },
                {
                  "0": "{\"deviceId\": \"tenant1-5\", \"temperature\": -8.406301918886548, \"pressure\": 165.19637091651026, \"ts\": \"2022-04-08T09:32:51.387297\", \"source\": \"eventhub\"}"
                },
                {
                  "0": "{\"deviceId\": \"tenant1-2\", \"temperature\": -47.77443553846605, \"pressure\": 459.0814340343077, \"ts\": \"2022-04-08T09:32:52.038578\", \"source\": \"eventhub\"}"
                },
                {
                  "0": "{\"deviceId\": \"tenant1-7\", \"temperature\": 6.3387977478281945, \"pressure\": 14.613492133752322, \"ts\": \"2022-04-08T09:32:52.038697\", \"source\": \"eventhub\"}"
                },
                {
                  "0": "{\"deviceId\": \"tenant1-1\", \"temperature\": -7.015078250070957, \"ts\": \"2022-04-08T09:32:52.038813\", \"source\": \"eventhub\"}"
                },
                {
                  "0": "{\"deviceId\": \"tenant1-9\", \"temperature\": 25.795915291473012, \"pressure\": 70.75081022301465, \"ts\": \"2022-04-08T09:32:52.038945\", \"source\": \"eventhub\"}"
                },
                {
                  "0": "{\"deviceId\": \"tenant1-9\", \"temperature\": 21.05329297689126, \"ts\": \"2022-04-08T09:32:52.039063\", \"source\": \"eventhub\"}"
                },
                {
                  "0": "{\"deviceId\": \"tenant1-7\", \"temperature\": 36.07422937368852, \"ts\": \"2022-04-08T09:32:52.039178\", \"source\": \"eventhub\"}"
                },
                {
                  "0": "{\"deviceId\": \"tenant1-2\", \"temperature\": -29.536799628468007, \"ts\": \"2022-04-08T09:32:52.039331\", \"source\": \"eventhub\"}"
                },
                {
                  "0": "{\"deviceId\": \"tenant1-8\", \"temperature\": -36.597553659801704, \"ts\": \"2022-04-08T09:32:52.039439\", \"source\": \"eventhub\"}"
                },
                {
                  "0": "{\"deviceId\": \"tenant1-4\", \"temperature\": 37.26602126479419, \"pressure\": 317.0687851261576, \"ts\": \"2022-04-08T09:32:52.039547\", \"source\": \"eventhub\"}"
                },
                {
                  "0": "{\"deviceId\": \"tenant1-2\", \"temperature\": 2.234813482186069, \"ts\": \"2022-04-08T09:32:52.039677\", \"source\": \"eventhub\"}"
                },
                {
                  "0": "{\"deviceId\": \"tenant1-9\", \"temperature\": 7.626903137403978, \"pressure\": 437.22531751671943, \"ts\": \"2022-04-08T09:32:44.035507\", \"source\": \"eventhub\"}"
                },
                {
                  "0": "{\"deviceId\": \"tenant1-2\", \"temperature\": -1.0711864785162915, \"ts\": \"2022-04-08T09:32:44.035627\", \"source\": \"eventhub\"}"
                },
                {
                  "0": "{\"deviceId\": \"tenant1-9\", \"temperature\": 4.338116116356234, \"ts\": \"2022-04-08T09:32:44.035759\", \"source\": \"eventhub\"}"
                },
                {
                  "0": "{\"deviceId\": \"tenant1-4\", \"temperature\": -1.9457603121284377, \"pressure\": 316.34167701861367, \"ts\": \"2022-04-08T09:32:44.035873\", \"source\": \"eventhub\"}"
                },
                {
                  "0": "{\"deviceId\": \"tenant1-6\", \"temperature\": 14.732163788931368, \"ts\": \"2022-04-08T09:32:44.036010\", \"source\": \"eventhub\"}"
                },
                {
                  "0": "{\"deviceId\": \"tenant1-1\", \"temperature\": -43.45112356966884, \"ts\": \"2022-04-08T09:32:44.036160\", \"source\": \"eventhub\"}"
                },
                {
                  "0": "{\"deviceId\": \"tenant1-1\", \"temperature\": -1.9465309170631615, \"ts\": \"2022-04-08T09:32:44.036285\", \"source\": \"eventhub\"}"
                },
                {
                  "0": "{\"deviceId\": \"tenant1-2\", \"temperature\": 26.673644023198314, \"pressure\": 415.6830953468327, \"ts\": \"2022-04-08T09:32:44.036404\", \"source\": \"eventhub\"}"
                },
                {
                  "0": "{\"deviceId\": \"tenant1-1\", \"temperature\": 44.51248664742801, \"pressure\": 323.8686688696017, \"ts\": \"2022-04-08T09:32:44.036541\", \"source\": \"eventhub\"}"
                },
                {
                  "0": "{\"deviceId\": \"tenant1-4\", \"temperature\": -27.44639838808752, \"ts\": \"2022-04-08T09:32:44.036695\", \"source\": \"eventhub\"}"
                },
                {
                  "0": "{\"deviceId\": \"tenant1-7\", \"temperature\": 37.858914239052346, \"ts\": \"2022-04-08T09:32:58.691548\", \"source\": \"eventhub\"}"
                },
                {
                  "0": "{\"deviceId\": \"tenant1-5\", \"temperature\": -39.182054214403685, \"ts\": \"2022-04-08T09:32:58.691657\", \"source\": \"eventhub\"}"
                },
                {
                  "0": "{\"deviceId\": \"tenant1-8\", \"temperature\": -36.893548540945304, \"ts\": \"2022-04-08T09:32:58.691766\", \"source\": \"eventhub\"}"
                },
                {
                  "0": "{\"deviceId\": \"tenant1-9\", \"temperature\": -4.228073098310864, \"pressure\": 231.8384332463124, \"ts\": \"2022-04-08T09:32:58.691876\", \"source\": \"eventhub\"}"
                },
                {
                  "0": "{\"deviceId\": \"tenant1-2\", \"temperature\": 16.635201682422093, \"pressure\": 142.32925229400163, \"ts\": \"2022-04-08T09:32:58.692013\", \"source\": \"eventhub\"}"
                },
                {
                  "0": "{\"deviceId\": \"tenant1-7\", \"temperature\": 8.22072140126872, \"ts\": \"2022-04-08T09:32:58.692125\", \"source\": \"eventhub\"}"
                },
                {
                  "0": "{\"deviceId\": \"tenant1-5\", \"temperature\": -36.231499728571244, \"ts\": \"2022-04-08T09:32:58.692251\", \"source\": \"eventhub\"}"
                },
                {
                  "0": "{\"deviceId\": \"tenant1-6\", \"temperature\": -42.30867264075421, \"pressure\": 90.85323321942897, \"ts\": \"2022-04-08T09:32:58.692358\", \"source\": \"eventhub\"}"
                },
                {
                  "0": "{\"deviceId\": \"tenant1-4\", \"temperature\": 34.06977959882474, \"pressure\": 314.2222573319342, \"ts\": \"2022-04-08T09:32:58.692467\", \"source\": \"eventhub\"}"
                },
                {
                  "0": "{\"deviceId\": \"tenant1-9\", \"temperature\": -49.72420257598436, \"ts\": \"2022-04-08T09:32:58.692577\", \"source\": \"eventhub\"}"
                },
                {
                  "0": "{\"deviceId\": \"tenant1-8\", \"temperature\": 2.6219246107999097, \"pressure\": 353.5957121681507, \"ts\": \"2022-04-08T09:32:52.649614\", \"source\": \"eventhub\"}"
                },
                {
                  "0": "{\"deviceId\": \"tenant1-5\", \"temperature\": 2.27447463908872, \"ts\": \"2022-04-08T09:32:52.650024\", \"source\": \"eventhub\"}"
                },
                {
                  "0": "{\"deviceId\": \"tenant1-9\", \"temperature\": -2.5684657974997993, \"ts\": \"2022-04-08T09:32:52.650236\", \"source\": \"eventhub\"}"
                },
                {
                  "0": "{\"deviceId\": \"tenant1-6\", \"temperature\": 21.71061004258958, \"pressure\": 228.2847635839761, \"ts\": \"2022-04-08T09:32:52.650373\", \"source\": \"eventhub\"}"
                },
                {
                  "0": "{\"deviceId\": \"tenant1-9\", \"temperature\": -23.43273688222363, \"pressure\": 49.932650011836046, \"ts\": \"2022-04-08T09:32:52.650509\", \"source\": \"eventhub\"}"
                },
                {
                  "0": "{\"deviceId\": \"tenant1-5\", \"temperature\": -46.4709355767792, \"ts\": \"2022-04-08T09:32:52.650624\", \"source\": \"eventhub\"}"
                },
                {
                  "0": "{\"deviceId\": \"tenant1-4\", \"temperature\": 28.574401031357052, \"ts\": \"2022-04-08T09:32:52.650759\", \"source\": \"eventhub\"}"
                },
                {
                  "0": "{\"deviceId\": \"tenant1-4\", \"temperature\": -44.72554202480068, \"pressure\": 141.8540251693847, \"ts\": \"2022-04-08T09:32:52.650888\", \"source\": \"eventhub\"}"
                },
                {
                  "0": "{\"deviceId\": \"tenant1-3\", \"temperature\": -40.010018512687125, \"ts\": \"2022-04-08T09:32:52.651041\", \"source\": \"eventhub\"}"
                },
                {
                  "0": "{\"deviceId\": \"tenant1-3\", \"temperature\": 30.057898531618875, \"ts\": \"2022-04-08T09:32:52.651167\", \"source\": \"eventhub\"}"
                },
                {
                  "0": "{\"deviceId\": \"tenant1-7\", \"temperature\": 48.25155355057748, \"ts\": \"2022-04-08T09:32:56.722833\", \"source\": \"eventhub\"}"
                },
                {
                  "0": "{\"deviceId\": \"tenant1-7\", \"temperature\": -39.52952637800169, \"ts\": \"2022-04-08T09:32:56.723135\", \"source\": \"eventhub\"}"
                },
                {
                  "0": "{\"deviceId\": \"tenant1-7\", \"temperature\": 35.043291894019646, \"ts\": \"2022-04-08T09:32:56.723277\", \"source\": \"eventhub\"}"
                },
                {
                  "0": "{\"deviceId\": \"tenant1-2\", \"temperature\": 38.41375016665472, \"pressure\": 79.55920919373793, \"ts\": \"2022-04-08T09:32:56.723437\", \"source\": \"eventhub\"}"
                },
                {
                  "0": "{\"deviceId\": \"tenant1-4\", \"temperature\": -30.430029030013095, \"pressure\": 220.96346906123, \"ts\": \"2022-04-08T09:32:56.723569\", \"source\": \"eventhub\"}"
                },
                {
                  "0": "{\"deviceId\": \"tenant1-9\", \"temperature\": -7.739011201162054, \"ts\": \"2022-04-08T09:32:56.723710\", \"source\": \"eventhub\"}"
                },
                {
                  "0": "{\"deviceId\": \"tenant1-4\", \"temperature\": 13.9584341818186, \"pressure\": 82.27649453334146, \"ts\": \"2022-04-08T09:32:56.723827\", \"source\": \"eventhub\"}"
                },
                {
                  "0": "{\"deviceId\": \"tenant1-3\", \"temperature\": 15.27725431796357, \"ts\": \"2022-04-08T09:32:56.723962\", \"source\": \"eventhub\"}"
                },
                {
                  "0": "{\"deviceId\": \"tenant1-1\", \"temperature\": 0.661313848735653, \"ts\": \"2022-04-08T09:32:56.724081\", \"source\": \"eventhub\"}"
                },
                {
                  "0": "{\"deviceId\": \"tenant1-1\", \"temperature\": -17.145444736145162, \"pressure\": 343.2104277626896, \"ts\": \"2022-04-08T09:32:56.724198\", \"source\": \"eventhub\"}"
                },
                {
                  "0": "{\"deviceId\": \"tenant1-2\", \"temperature\": 33.28066113275506, \"ts\": \"2022-04-08T09:32:56.060906\", \"source\": \"eventhub\"}"
                },
                {
                  "0": "{\"deviceId\": \"tenant1-8\", \"temperature\": 8.690880755626138, \"pressure\": 347.27923185828485, \"ts\": \"2022-04-08T09:32:56.061188\", \"source\": \"eventhub\"}"
                },
                {
                  "0": "{\"deviceId\": \"tenant1-2\", \"temperature\": 11.818843835694743, \"pressure\": 460.60214146707364, \"ts\": \"2022-04-08T09:32:56.061364\", \"source\": \"eventhub\"}"
                },
                {
                  "0": "{\"deviceId\": \"tenant1-5\", \"temperature\": -45.56273958028822, \"ts\": \"2022-04-08T09:32:56.061508\", \"source\": \"eventhub\"}"
                },
                {
                  "0": "{\"deviceId\": \"tenant1-9\", \"temperature\": 41.44044157031383, \"pressure\": 249.31982500668565, \"ts\": \"2022-04-08T09:32:56.061636\", \"source\": \"eventhub\"}"
                },
                {
                  "0": "{\"deviceId\": \"tenant1-9\", \"temperature\": 19.400928926184115, \"ts\": \"2022-04-08T09:32:56.061761\", \"source\": \"eventhub\"}"
                },
                {
                  "0": "{\"deviceId\": \"tenant1-1\", \"temperature\": 6.429827894763847, \"ts\": \"2022-04-08T09:32:56.061904\", \"source\": \"eventhub\"}"
                },
                {
                  "0": "{\"deviceId\": \"tenant1-2\", \"temperature\": -18.950879692547485, \"ts\": \"2022-04-08T09:32:56.062059\", \"source\": \"eventhub\"}"
                },
                {
                  "0": "{\"deviceId\": \"tenant1-5\", \"temperature\": 9.953655790883726, \"ts\": \"2022-04-08T09:32:56.062196\", \"source\": \"eventhub\"}"
                },
                {
                  "0": "{\"deviceId\": \"tenant1-9\", \"temperature\": -27.60299076057674, \"pressure\": 174.94137016991556, \"ts\": \"2022-04-08T09:32:56.062317\", \"source\": \"eventhub\"}"
                },
                {
                  "0": "{\"deviceId\": \"tenant1-7\", \"temperature\": -42.73064454305529, \"ts\": \"2022-04-08T09:32:59.991417\", \"source\": \"eventhub\"}"
                },
                {
                  "0": "{\"deviceId\": \"tenant1-1\", \"temperature\": 41.08879158021706, \"ts\": \"2022-04-08T09:32:59.991686\", \"source\": \"eventhub\"}"
                },
                {
                  "0": "{\"deviceId\": \"tenant1-9\", \"temperature\": 24.562301632648285, \"pressure\": 242.36187296677704, \"ts\": \"2022-04-08T09:32:59.991821\", \"source\": \"eventhub\"}"
                },
                {
                  "0": "{\"deviceId\": \"tenant1-2\", \"temperature\": 11.531264733618075, \"ts\": \"2022-04-08T09:32:59.991950\", \"source\": \"eventhub\"}"
                },
                {
                  "0": "{\"deviceId\": \"tenant1-3\", \"temperature\": -13.516535210429476, \"pressure\": 474.6502619845591, \"ts\": \"2022-04-08T09:32:59.992071\", \"source\": \"eventhub\"}"
                },
                {
                  "0": "{\"deviceId\": \"tenant1-1\", \"temperature\": -16.640875207520402, \"ts\": \"2022-04-08T09:32:59.992189\", \"source\": \"eventhub\"}"
                },
                {
                  "0": "{\"deviceId\": \"tenant1-4\", \"temperature\": -0.5809298985921816, \"ts\": \"2022-04-08T09:32:59.992304\", \"source\": \"eventhub\"}"
                },
                {
                  "0": "{\"deviceId\": \"tenant1-3\", \"temperature\": 21.780656475967767, \"ts\": \"2022-04-08T09:32:59.992417\", \"source\": \"eventhub\"}"
                },
                {
                  "0": "{\"deviceId\": \"tenant1-9\", \"temperature\": -25.92430263825761, \"pressure\": 384.0781211114343, \"ts\": \"2022-04-08T09:32:59.992550\", \"source\": \"eventhub\"}"
                },
                {
                  "0": "{\"deviceId\": \"tenant1-7\", \"temperature\": -22.38046315292486, \"ts\": \"2022-04-08T09:32:59.992661\", \"source\": \"eventhub\"}"
                },
                {
                  "0": "{\"deviceId\": \"tenant1-8\", \"temperature\": 9.90831598234267, \"ts\": \"2022-04-08T09:32:48.698349\", \"source\": \"eventhub\"}"
                },
                {
                  "0": "{\"deviceId\": \"tenant1-5\", \"temperature\": -16.960306611318245, \"ts\": \"2022-04-08T09:32:48.698671\", \"source\": \"eventhub\"}"
                },
                {
                  "0": "{\"deviceId\": \"tenant1-7\", \"temperature\": 23.859204593545208, \"pressure\": 345.92297079046006, \"ts\": \"2022-04-08T09:32:48.698812\", \"source\": \"eventhub\"}"
                },
                {
                  "0": "{\"deviceId\": \"tenant1-4\", \"temperature\": 43.742185921282626, \"ts\": \"2022-04-08T09:32:48.698945\", \"source\": \"eventhub\"}"
                },
                {
                  "0": "{\"deviceId\": \"tenant1-4\", \"temperature\": 1.4286737510026413, \"ts\": \"2022-04-08T09:32:48.699067\", \"source\": \"eventhub\"}"
                },
                {
                  "0": "{\"deviceId\": \"tenant1-9\", \"temperature\": 33.52156952924851, \"ts\": \"2022-04-08T09:32:48.699186\", \"source\": \"eventhub\"}"
                },
                {
                  "0": "{\"deviceId\": \"tenant1-4\", \"temperature\": 34.584267933986176, \"ts\": \"2022-04-08T09:32:48.699302\", \"source\": \"eventhub\"}"
                },
                {
                  "0": "{\"deviceId\": \"tenant1-3\", \"temperature\": 20.381286307928747, \"pressure\": 159.21367040179481, \"ts\": \"2022-04-08T09:32:48.699418\", \"source\": \"eventhub\"}"
                },
                {
                  "0": "{\"deviceId\": \"tenant1-9\", \"temperature\": 9.695959001295893, \"ts\": \"2022-04-08T09:32:48.699538\", \"source\": \"eventhub\"}"
                },
                {
                  "0": "{\"deviceId\": \"tenant1-9\", \"temperature\": -23.326417136337078, \"pressure\": 405.8609562673158, \"ts\": \"2022-04-08T09:32:48.699654\", \"source\": \"eventhub\"}"
                },
                {
                  "0": "{\"deviceId\": \"tenant1-2\", \"temperature\": -10.320743183350485, \"pressure\": 96.32989395399737, \"ts\": \"2022-04-08T09:32:40.690462\", \"source\": \"eventhub\"}"
                },
                {
                  "0": "{\"deviceId\": \"tenant1-5\", \"temperature\": 2.368875924343781, \"ts\": \"2022-04-08T09:32:40.690572\", \"source\": \"eventhub\"}"
                },
                {
                  "0": "{\"deviceId\": \"tenant1-6\", \"temperature\": 45.6348347941511, \"pressure\": 316.0168272342796, \"ts\": \"2022-04-08T09:32:40.690682\", \"source\": \"eventhub\"}"
                },
                {
                  "0": "{\"deviceId\": \"tenant1-7\", \"temperature\": -18.95577148240314, \"ts\": \"2022-04-08T09:32:40.690792\", \"source\": \"eventhub\"}"
                },
                {
                  "0": "{\"deviceId\": \"tenant1-5\", \"temperature\": 15.608507271339876, \"ts\": \"2022-04-08T09:32:40.690919\", \"source\": \"eventhub\"}"
                },
                {
                  "0": "{\"deviceId\": \"tenant1-8\", \"temperature\": -15.39205630213624, \"pressure\": 58.01458273978029, \"ts\": \"2022-04-08T09:32:40.691030\", \"source\": \"eventhub\"}"
                },
                {
                  "0": "{\"deviceId\": \"tenant1-5\", \"temperature\": -24.296155459189745, \"ts\": \"2022-04-08T09:32:40.691143\", \"source\": \"eventhub\"}"
                },
                {
                  "0": "{\"deviceId\": \"tenant1-8\", \"temperature\": 14.263193519817733, \"ts\": \"2022-04-08T09:32:40.691269\", \"source\": \"eventhub\"}"
                },
                {
                  "0": "{\"deviceId\": \"tenant1-6\", \"temperature\": -14.03145374299382, \"ts\": \"2022-04-08T09:32:40.691378\", \"source\": \"eventhub\"}"
                },
                {
                  "0": "{\"deviceId\": \"tenant1-5\", \"temperature\": 45.58916728491137, \"ts\": \"2022-04-08T09:32:40.691489\", \"source\": \"eventhub\"}"
                },
                {
                  "0": "{\"deviceId\": \"tenant1-2\", \"temperature\": 30.36143557237306, \"ts\": \"2022-04-08T09:32:46.014874\", \"source\": \"eventhub\"}"
                },
                {
                  "0": "{\"deviceId\": \"tenant1-1\", \"temperature\": 35.749568516726804, \"pressure\": 304.24381804459233, \"ts\": \"2022-04-08T09:32:46.015147\", \"source\": \"eventhub\"}"
                },
                {
                  "0": "{\"deviceId\": \"tenant1-8\", \"temperature\": 5.7973533001445405, \"pressure\": 287.1389647001859, \"ts\": \"2022-04-08T09:32:46.015297\", \"source\": \"eventhub\"}"
                },
                {
                  "0": "{\"deviceId\": \"tenant1-1\", \"temperature\": -19.640325172685067, \"pressure\": 185.5006980482966, \"ts\": \"2022-04-08T09:32:46.015416\", \"source\": \"eventhub\"}"
                },
                {
                  "0": "{\"deviceId\": \"tenant1-8\", \"temperature\": 14.023313671591293, \"ts\": \"2022-04-08T09:32:46.015532\", \"source\": \"eventhub\"}"
                },
                {
                  "0": "{\"deviceId\": \"tenant1-7\", \"temperature\": 12.722995023015788, \"ts\": \"2022-04-08T09:32:46.015643\", \"source\": \"eventhub\"}"
                },
                {
                  "0": "{\"deviceId\": \"tenant1-8\", \"temperature\": -3.9578026354258453, \"ts\": \"2022-04-08T09:32:46.015753\", \"source\": \"eventhub\"}"
                },
                {
                  "0": "{\"deviceId\": \"tenant1-8\", \"temperature\": -1.6893967969843176, \"ts\": \"2022-04-08T09:32:46.015860\", \"source\": \"eventhub\"}"
                },
                {
                  "0": "{\"deviceId\": \"tenant1-3\", \"temperature\": -9.743906734617608, \"ts\": \"2022-04-08T09:32:46.015965\", \"source\": \"eventhub\"}"
                },
                {
                  "0": "{\"deviceId\": \"tenant1-8\", \"temperature\": 9.316860767556014, \"ts\": \"2022-04-08T09:32:46.016071\", \"source\": \"eventhub\"}"
                },
                {
                  "0": "{\"deviceId\": \"tenant1-8\", \"temperature\": -29.181956756410084, \"ts\": \"2022-04-08T09:32:57.380884\", \"source\": \"eventhub\"}"
                },
                {
                  "0": "{\"deviceId\": \"tenant1-1\", \"temperature\": -45.65346692724993, \"ts\": \"2022-04-08T09:32:57.381007\", \"source\": \"eventhub\"}"
                },
                {
                  "0": "{\"deviceId\": \"tenant1-7\", \"temperature\": 1.7752438729117221, \"ts\": \"2022-04-08T09:32:57.381136\", \"source\": \"eventhub\"}"
                },
                {
                  "0": "{\"deviceId\": \"tenant1-7\", \"temperature\": 12.177366230549245, \"ts\": \"2022-04-08T09:32:57.381262\", \"source\": \"eventhub\"}"
                },
                {
                  "0": "{\"deviceId\": \"tenant1-5\", \"temperature\": 41.49219259399371, \"pressure\": 469.3804122591675, \"ts\": \"2022-04-08T09:32:57.381431\", \"source\": \"eventhub\"}"
                },
                {
                  "0": "{\"deviceId\": \"tenant1-3\", \"temperature\": 0.45023035381197407, \"ts\": \"2022-04-08T09:32:57.381558\", \"source\": \"eventhub\"}"
                },
                {
                  "0": "{\"deviceId\": \"tenant1-2\", \"temperature\": -33.17219818229448, \"pressure\": 80.20349265680407, \"ts\": \"2022-04-08T09:32:57.381681\", \"source\": \"eventhub\"}"
                },
                {
                  "0": "{\"deviceId\": \"tenant1-3\", \"temperature\": 11.92076771061744, \"pressure\": 10.510375165162545, \"ts\": \"2022-04-08T09:32:57.381835\", \"source\": \"eventhub\"}"
                },
                {
                  "0": "{\"deviceId\": \"tenant1-7\", \"temperature\": -27.984309258457692, \"pressure\": 257.8352009261293, \"ts\": \"2022-04-08T09:32:57.381958\", \"source\": \"eventhub\"}"
                },
                {
                  "0": "{\"deviceId\": \"tenant1-1\", \"temperature\": 38.23788383640387, \"pressure\": 113.47147400336354, \"ts\": \"2022-04-08T09:32:57.382080\", \"source\": \"eventhub\"}"
                },
                {
                  "0": "{\"deviceId\": \"tenant1-2\", \"temperature\": 2.994033718346224, \"ts\": \"2022-04-08T09:32:58.033157\", \"source\": \"eventhub\"}"
                },
                {
                  "0": "{\"deviceId\": \"tenant1-4\", \"temperature\": 30.50931355641792, \"ts\": \"2022-04-08T09:32:58.033293\", \"source\": \"eventhub\"}"
                },
                {
                  "0": "{\"deviceId\": \"tenant1-5\", \"temperature\": 42.85933679104958, \"pressure\": 106.45805357524922, \"ts\": \"2022-04-08T09:32:58.033453\", \"source\": \"eventhub\"}"
                },
                {
                  "0": "{\"deviceId\": \"tenant1-1\", \"temperature\": 29.94193939883047, \"ts\": \"2022-04-08T09:32:58.033594\", \"source\": \"eventhub\"}"
                },
                {
                  "0": "{\"deviceId\": \"tenant1-8\", \"temperature\": 0.5561260186318402, \"pressure\": 472.33440477995214, \"ts\": \"2022-04-08T09:32:58.033716\", \"source\": \"eventhub\"}"
                },
                {
                  "0": "{\"deviceId\": \"tenant1-2\", \"temperature\": 15.022418060575026, \"ts\": \"2022-04-08T09:32:58.033840\", \"source\": \"eventhub\"}"
                },
                {
                  "0": "{\"deviceId\": \"tenant1-5\", \"temperature\": -4.595827014355465, \"ts\": \"2022-04-08T09:32:58.033978\", \"source\": \"eventhub\"}"
                },
                {
                  "0": "{\"deviceId\": \"tenant1-7\", \"temperature\": -19.51949973427581, \"ts\": \"2022-04-08T09:32:58.034149\", \"source\": \"eventhub\"}"
                },
                {
                  "0": "{\"deviceId\": \"tenant1-4\", \"temperature\": -42.691092999613865, \"ts\": \"2022-04-08T09:32:58.034269\", \"source\": \"eventhub\"}"
                },
                {
                  "0": "{\"deviceId\": \"tenant1-5\", \"temperature\": 41.40402237808057, \"ts\": \"2022-04-08T09:32:58.034389\", \"source\": \"eventhub\"}"
                },
                {
                  "0": "{\"deviceId\": \"tenant1-8\", \"temperature\": 26.565615915400492, \"ts\": \"2022-04-08T09:32:56.062456\", \"source\": \"eventhub\"}"
                },
                {
                  "0": "{\"deviceId\": \"tenant1-8\", \"temperature\": 16.470704649975534, \"ts\": \"2022-04-08T09:32:56.062591\", \"source\": \"eventhub\"}"
                },
                {
                  "0": "{\"deviceId\": \"tenant1-2\", \"temperature\": 15.961578767832043, \"pressure\": 406.5565648606915, \"ts\": \"2022-04-08T09:32:56.062723\", \"source\": \"eventhub\"}"
                },
                {
                  "0": "{\"deviceId\": \"tenant1-6\", \"temperature\": -15.868346026946405, \"ts\": \"2022-04-08T09:32:56.062846\", \"source\": \"eventhub\"}"
                },
                {
                  "0": "{\"deviceId\": \"tenant1-2\", \"temperature\": -47.862654577267676, \"pressure\": 425.11500448103783, \"ts\": \"2022-04-08T09:32:56.062968\", \"source\": \"eventhub\"}"
                },
                {
                  "0": "{\"deviceId\": \"tenant1-8\", \"temperature\": -28.875766977772056, \"pressure\": 290.99590565068524, \"ts\": \"2022-04-08T09:32:56.063091\", \"source\": \"eventhub\"}"
                },
                {
                  "0": "{\"deviceId\": \"tenant1-2\", \"temperature\": -27.917470994522812, \"ts\": \"2022-04-08T09:32:56.063215\", \"source\": \"eventhub\"}"
                },
                {
                  "0": "{\"deviceId\": \"tenant1-3\", \"temperature\": -14.835694198990636, \"ts\": \"2022-04-08T09:32:56.063476\", \"source\": \"eventhub\"}"
                },
                {
                  "0": "{\"deviceId\": \"tenant1-3\", \"temperature\": -34.08299855057474, \"pressure\": 259.57504816826037, \"ts\": \"2022-04-08T09:32:56.063790\", \"source\": \"eventhub\"}"
                },
                {
                  "0": "{\"deviceId\": \"tenant1-5\", \"temperature\": 33.134993910470946, \"pressure\": 209.58935369246487, \"ts\": \"2022-04-08T09:32:56.063935\", \"source\": \"eventhub\"}"
                },
                {
                  "0": "{\"deviceId\": \"tenant1-9\", \"temperature\": -31.102818205411367, \"ts\": \"2022-04-08T09:32:48.699772\", \"source\": \"eventhub\"}"
                },
                {
                  "0": "{\"deviceId\": \"tenant1-3\", \"temperature\": -34.14749577773044, \"ts\": \"2022-04-08T09:32:48.699888\", \"source\": \"eventhub\"}"
                },
                {
                  "0": "{\"deviceId\": \"tenant1-8\", \"temperature\": 42.6953817593817, \"ts\": \"2022-04-08T09:32:48.700004\", \"source\": \"eventhub\"}"
                },
                {
                  "0": "{\"deviceId\": \"tenant1-1\", \"temperature\": 40.12933252569849, \"ts\": \"2022-04-08T09:32:48.700119\", \"source\": \"eventhub\"}"
                },
                {
                  "0": "{\"deviceId\": \"tenant1-3\", \"temperature\": 1.9756501811778509, \"pressure\": 295.76589546658425, \"ts\": \"2022-04-08T09:32:48.700248\", \"source\": \"eventhub\"}"
                },
                {
                  "0": "{\"deviceId\": \"tenant1-2\", \"temperature\": 38.37397439907872, \"ts\": \"2022-04-08T09:32:48.700381\", \"source\": \"eventhub\"}"
                },
                {
                  "0": "{\"deviceId\": \"tenant1-5\", \"temperature\": 16.18502849254448, \"pressure\": 283.0037959513463, \"ts\": \"2022-04-08T09:32:48.700494\", \"source\": \"eventhub\"}"
                },
                {
                  "0": "{\"deviceId\": \"tenant1-2\", \"temperature\": 31.117570710026147, \"ts\": \"2022-04-08T09:32:48.700697\", \"source\": \"eventhub\"}"
                },
                {
                  "0": "{\"deviceId\": \"tenant1-1\", \"temperature\": -13.620163697384296, \"ts\": \"2022-04-08T09:32:48.700808\", \"source\": \"eventhub\"}"
                },
                {
                  "0": "{\"deviceId\": \"tenant1-3\", \"temperature\": -17.102181930302205, \"pressure\": 185.71589399863038, \"ts\": \"2022-04-08T09:32:48.700921\", \"source\": \"eventhub\"}"
                },
                {
                  "0": "{\"deviceId\": \"tenant1-8\", \"temperature\": 24.045047162946194, \"pressure\": 335.2866099029676, \"ts\": \"2022-04-08T09:32:49.414023\", \"source\": \"eventhub\"}"
                },
                {
                  "0": "{\"deviceId\": \"tenant1-3\", \"temperature\": -37.998696635336124, \"pressure\": 7.723401010499535, \"ts\": \"2022-04-08T09:32:49.414301\", \"source\": \"eventhub\"}"
                },
                {
                  "0": "{\"deviceId\": \"tenant1-8\", \"temperature\": 4.779390491354044, \"ts\": \"2022-04-08T09:32:49.414431\", \"source\": \"eventhub\"}"
                },
                {
                  "0": "{\"deviceId\": \"tenant1-9\", \"temperature\": 24.238208745988413, \"ts\": \"2022-04-08T09:32:49.414624\", \"source\": \"eventhub\"}"
                },
                {
                  "0": "{\"deviceId\": \"tenant1-3\", \"temperature\": -12.615094610580996, \"ts\": \"2022-04-08T09:32:49.414769\", \"source\": \"eventhub\"}"
                },
                {
                  "0": "{\"deviceId\": \"tenant1-5\", \"temperature\": -12.010303175208566, \"ts\": \"2022-04-08T09:32:49.414906\", \"source\": \"eventhub\"}"
                },
                {
                  "0": "{\"deviceId\": \"tenant1-7\", \"temperature\": 4.116353630698615, \"pressure\": 409.7613243169252, \"ts\": \"2022-04-08T09:32:49.415035\", \"source\": \"eventhub\"}"
                },
                {
                  "0": "{\"deviceId\": \"tenant1-9\", \"temperature\": 11.93089494253142, \"ts\": \"2022-04-08T09:32:49.415162\", \"source\": \"eventhub\"}"
                },
                {
                  "0": "{\"deviceId\": \"tenant1-6\", \"temperature\": 21.722773103005444, \"pressure\": 155.92061471385193, \"ts\": \"2022-04-08T09:32:49.415272\", \"source\": \"eventhub\"}"
                },
                {
                  "0": "{\"deviceId\": \"tenant1-4\", \"temperature\": -48.7454523152615, \"ts\": \"2022-04-08T09:32:49.415384\", \"source\": \"eventhub\"}"
                },
                {
                  "0": "{\"deviceId\": \"tenant1-7\", \"temperature\": 27.802730115386595, \"pressure\": 443.7669006503588, \"ts\": \"2022-04-08T09:32:42.027689\", \"source\": \"eventhub\"}"
                },
                {
                  "0": "{\"deviceId\": \"tenant1-4\", \"temperature\": -40.380727638552365, \"ts\": \"2022-04-08T09:32:42.028019\", \"source\": \"eventhub\"}"
                },
                {
                  "0": "{\"deviceId\": \"tenant1-2\", \"temperature\": -20.111248252229974, \"ts\": \"2022-04-08T09:32:42.028175\", \"source\": \"eventhub\"}"
                },
                {
                  "0": "{\"deviceId\": \"tenant1-8\", \"temperature\": 37.9112864829062, \"ts\": \"2022-04-08T09:32:42.028454\", \"source\": \"eventhub\"}"
                },
                {
                  "0": "{\"deviceId\": \"tenant1-4\", \"temperature\": 44.347157553302765, \"pressure\": 36.93010629225259, \"ts\": \"2022-04-08T09:32:42.028604\", \"source\": \"eventhub\"}"
                },
                {
                  "0": "{\"deviceId\": \"tenant1-5\", \"temperature\": -34.49729443122239, \"ts\": \"2022-04-08T09:32:42.028732\", \"source\": \"eventhub\"}"
                },
                {
                  "0": "{\"deviceId\": \"tenant1-3\", \"temperature\": -29.195123788434664, \"ts\": \"2022-04-08T09:32:42.028853\", \"source\": \"eventhub\"}"
                },
                {
                  "0": "{\"deviceId\": \"tenant1-2\", \"temperature\": 4.442955899237106, \"pressure\": 159.9842771326514, \"ts\": \"2022-04-08T09:32:42.028987\", \"source\": \"eventhub\"}"
                },
                {
                  "0": "{\"deviceId\": \"tenant1-2\", \"temperature\": -22.605736935095646, \"pressure\": 311.5763534870341, \"ts\": \"2022-04-08T09:32:42.029111\", \"source\": \"eventhub\"}"
                },
                {
                  "0": "{\"deviceId\": \"tenant1-3\", \"temperature\": 27.126961131830054, \"ts\": \"2022-04-08T09:32:42.029756\", \"source\": \"eventhub\"}"
                },
                {
                  "0": "{\"deviceId\": \"tenant1-3\", \"temperature\": -9.871940605943795, \"ts\": \"2022-04-08T09:32:45.360513\", \"source\": \"eventhub\"}"
                },
                {
                  "0": "{\"deviceId\": \"tenant1-6\", \"temperature\": 13.715434019999549, \"ts\": \"2022-04-08T09:32:45.360790\", \"source\": \"eventhub\"}"
                },
                {
                  "0": "{\"deviceId\": \"tenant1-4\", \"temperature\": 31.077981544807727, \"pressure\": 166.49200737133484, \"ts\": \"2022-04-08T09:32:45.360923\", \"source\": \"eventhub\"}"
                },
                {
                  "0": "{\"deviceId\": \"tenant1-9\", \"temperature\": -25.874839079690286, \"ts\": \"2022-04-08T09:32:45.361051\", \"source\": \"eventhub\"}"
                },
                {
                  "0": "{\"deviceId\": \"tenant1-8\", \"temperature\": -17.631953933915035, \"ts\": \"2022-04-08T09:32:45.361169\", \"source\": \"eventhub\"}"
                },
                {
                  "0": "{\"deviceId\": \"tenant1-1\", \"temperature\": -25.35438123710991, \"ts\": \"2022-04-08T09:32:45.361282\", \"source\": \"eventhub\"}"
                },
                {
                  "0": "{\"deviceId\": \"tenant1-8\", \"temperature\": 30.465085915934388, \"pressure\": 336.4602930926555, \"ts\": \"2022-04-08T09:32:45.361481\", \"source\": \"eventhub\"}"
                },
                {
                  "0": "{\"deviceId\": \"tenant1-9\", \"temperature\": -32.19113183406707, \"ts\": \"2022-04-08T09:32:45.361608\", \"source\": \"eventhub\"}"
                },
                {
                  "0": "{\"deviceId\": \"tenant1-7\", \"temperature\": -33.17233083492575, \"pressure\": 308.0050575245804, \"ts\": \"2022-04-08T09:32:45.361731\", \"source\": \"eventhub\"}"
                },
                {
                  "0": "{\"deviceId\": \"tenant1-1\", \"temperature\": 13.733500644647187, \"ts\": \"2022-04-08T09:32:45.361863\", \"source\": \"eventhub\"}"
                },
                {
                  "0": "{\"deviceId\": \"tenant1-4\", \"temperature\": 16.436679811536514, \"ts\": \"2022-04-08T09:32:45.361977\", \"source\": \"eventhub\"}"
                },
                {
                  "0": "{\"deviceId\": \"tenant1-3\", \"temperature\": 46.30015963663034, \"ts\": \"2022-04-08T09:32:45.362094\", \"source\": \"eventhub\"}"
                },
                {
                  "0": "{\"deviceId\": \"tenant1-2\", \"temperature\": -5.494259583690388, \"ts\": \"2022-04-08T09:32:45.362209\", \"source\": \"eventhub\"}"
                },
                {
                  "0": "{\"deviceId\": \"tenant1-7\", \"temperature\": -27.585185496079333, \"ts\": \"2022-04-08T09:32:45.362322\", \"source\": \"eventhub\"}"
                },
                {
                  "0": "{\"deviceId\": \"tenant1-8\", \"temperature\": -17.471857831296163, \"ts\": \"2022-04-08T09:32:45.362454\", \"source\": \"eventhub\"}"
                },
                {
                  "0": "{\"deviceId\": \"tenant1-1\", \"temperature\": -48.635398160752466, \"ts\": \"2022-04-08T09:32:45.362566\", \"source\": \"eventhub\"}"
                },
                {
                  "0": "{\"deviceId\": \"tenant1-9\", \"temperature\": -48.626309168076986, \"ts\": \"2022-04-08T09:32:45.362678\", \"source\": \"eventhub\"}"
                },
                {
                  "0": "{\"deviceId\": \"tenant1-3\", \"temperature\": -12.108615276594485, \"pressure\": 116.69881394223383, \"ts\": \"2022-04-08T09:32:45.362789\", \"source\": \"eventhub\"}"
                },
                {
                  "0": "{\"deviceId\": \"tenant1-6\", \"temperature\": 1.373943393565685, \"ts\": \"2022-04-08T09:32:45.362903\", \"source\": \"eventhub\"}"
                },
                {
                  "0": "{\"deviceId\": \"tenant1-8\", \"temperature\": -19.83890194778743, \"pressure\": 156.21784677027117, \"ts\": \"2022-04-08T09:32:45.363116\", \"source\": \"eventhub\"}"
                },
                {
                  "0": "{\"deviceId\": \"tenant1-6\", \"temperature\": -49.73438955296239, \"ts\": \"2022-04-08T09:32:48.036063\", \"source\": \"eventhub\"}"
                },
                {
                  "0": "{\"deviceId\": \"tenant1-4\", \"temperature\": 25.14831712294872, \"pressure\": 359.83657047221726, \"ts\": \"2022-04-08T09:32:48.036370\", \"source\": \"eventhub\"}"
                },
                {
                  "0": "{\"deviceId\": \"tenant1-6\", \"temperature\": 18.018335212290207, \"ts\": \"2022-04-08T09:32:48.036501\", \"source\": \"eventhub\"}"
                },
                {
                  "0": "{\"deviceId\": \"tenant1-3\", \"temperature\": 7.539393853059549, \"ts\": \"2022-04-08T09:32:48.036620\", \"source\": \"eventhub\"}"
                },
                {
                  "0": "{\"deviceId\": \"tenant1-6\", \"temperature\": 0.7078909264557124, \"pressure\": 94.90930563816963, \"ts\": \"2022-04-08T09:32:48.036752\", \"source\": \"eventhub\"}"
                },
                {
                  "0": "{\"deviceId\": \"tenant1-4\", \"temperature\": 4.931665383792963, \"ts\": \"2022-04-08T09:32:48.036867\", \"source\": \"eventhub\"}"
                },
                {
                  "0": "{\"deviceId\": \"tenant1-5\", \"temperature\": -33.3840891345182, \"pressure\": 312.6552157833335, \"ts\": \"2022-04-08T09:32:48.036998\", \"source\": \"eventhub\"}"
                },
                {
                  "0": "{\"deviceId\": \"tenant1-1\", \"temperature\": -1.999926529877794, \"ts\": \"2022-04-08T09:32:48.037154\", \"source\": \"eventhub\"}"
                },
                {
                  "0": "{\"deviceId\": \"tenant1-9\", \"temperature\": 39.01109909864097, \"ts\": \"2022-04-08T09:32:48.037273\", \"source\": \"eventhub\"}"
                },
                {
                  "0": "{\"deviceId\": \"tenant1-4\", \"temperature\": 25.84596074181865, \"ts\": \"2022-04-08T09:32:48.037503\", \"source\": \"eventhub\"}"
                },
                {
                  "0": "{\"deviceId\": \"tenant1-2\", \"temperature\": 41.67004451112876, \"ts\": \"2022-04-08T09:32:54.088874\", \"source\": \"eventhub\"}"
                },
                {
                  "0": "{\"deviceId\": \"tenant1-2\", \"temperature\": 35.71997671921627, \"ts\": \"2022-04-08T09:32:54.089151\", \"source\": \"eventhub\"}"
                },
                {
                  "0": "{\"deviceId\": \"tenant1-7\", \"temperature\": -19.691142988632638, \"pressure\": 217.01336033832675, \"ts\": \"2022-04-08T09:32:54.089286\", \"source\": \"eventhub\"}"
                },
                {
                  "0": "{\"deviceId\": \"tenant1-7\", \"temperature\": -22.83058961081424, \"ts\": \"2022-04-08T09:32:54.089560\", \"source\": \"eventhub\"}"
                },
                {
                  "0": "{\"deviceId\": \"tenant1-9\", \"temperature\": 24.74243325165963, \"ts\": \"2022-04-08T09:32:54.089706\", \"source\": \"eventhub\"}"
                },
                {
                  "0": "{\"deviceId\": \"tenant1-8\", \"temperature\": -2.3402467129264912, \"pressure\": 437.2839421944932, \"ts\": \"2022-04-08T09:32:54.089848\", \"source\": \"eventhub\"}"
                },
                {
                  "0": "{\"deviceId\": \"tenant1-8\", \"temperature\": -35.54867678408365, \"ts\": \"2022-04-08T09:32:54.089984\", \"source\": \"eventhub\"}"
                },
                {
                  "0": "{\"deviceId\": \"tenant1-5\", \"temperature\": -12.379764980192515, \"ts\": \"2022-04-08T09:32:54.090096\", \"source\": \"eventhub\"}"
                },
                {
                  "0": "{\"deviceId\": \"tenant1-9\", \"temperature\": 48.983060249882364, \"ts\": \"2022-04-08T09:32:54.090207\", \"source\": \"eventhub\"}"
                },
                {
                  "0": "{\"deviceId\": \"tenant1-5\", \"temperature\": 11.485532299417153, \"ts\": \"2022-04-08T09:32:54.090318\", \"source\": \"eventhub\"}"
                },
                {
                  "0": "{\"deviceId\": \"tenant1-3\", \"temperature\": 30.3808076092139, \"ts\": \"2022-04-08T09:32:59.992771\", \"source\": \"eventhub\"}"
                },
                {
                  "0": "{\"deviceId\": \"tenant1-2\", \"temperature\": 48.8690378980678, \"ts\": \"2022-04-08T09:32:59.992876\", \"source\": \"eventhub\"}"
                },
                {
                  "0": "{\"deviceId\": \"tenant1-8\", \"temperature\": 2.533661004249571, \"ts\": \"2022-04-08T09:32:59.992982\", \"source\": \"eventhub\"}"
                },
                {
                  "0": "{\"deviceId\": \"tenant1-5\", \"temperature\": -37.7051715503408, \"ts\": \"2022-04-08T09:32:59.993087\", \"source\": \"eventhub\"}"
                },
                {
                  "0": "{\"deviceId\": \"tenant1-7\", \"temperature\": -2.3362842823577568, \"pressure\": 467.8298905258328, \"ts\": \"2022-04-08T09:32:59.993219\", \"source\": \"eventhub\"}"
                },
                {
                  "0": "{\"deviceId\": \"tenant1-9\", \"temperature\": -12.86898103026523, \"ts\": \"2022-04-08T09:32:59.993363\", \"source\": \"eventhub\"}"
                },
                {
                  "0": "{\"deviceId\": \"tenant1-8\", \"temperature\": 8.38277046228987, \"pressure\": 447.25911299662476, \"ts\": \"2022-04-08T09:32:59.993535\", \"source\": \"eventhub\"}"
                },
                {
                  "0": "{\"deviceId\": \"tenant1-7\", \"temperature\": 16.59224421120668, \"ts\": \"2022-04-08T09:32:59.994010\", \"source\": \"eventhub\"}"
                },
                {
                  "0": "{\"deviceId\": \"tenant1-2\", \"temperature\": 8.144194183138273, \"ts\": \"2022-04-08T09:32:59.994209\", \"source\": \"eventhub\"}"
                },
                {
                  "0": "{\"deviceId\": \"tenant1-7\", \"temperature\": 37.182388407952025, \"ts\": \"2022-04-08T09:32:59.994333\", \"source\": \"eventhub\"}"
                },
                {
                  "0": "{\"deviceId\": \"tenant1-4\", \"temperature\": 49.45757973035467, \"ts\": \"2022-04-08T09:32:58.031573\", \"source\": \"eventhub\"}"
                },
                {
                  "0": "{\"deviceId\": \"tenant1-1\", \"temperature\": 14.563507508039523, \"ts\": \"2022-04-08T09:32:58.031953\", \"source\": \"eventhub\"}"
                },
                {
                  "0": "{\"deviceId\": \"tenant1-1\", \"temperature\": 6.094945661484116, \"pressure\": 292.438651942169, \"ts\": \"2022-04-08T09:32:58.032114\", \"source\": \"eventhub\"}"
                },
                {
                  "0": "{\"deviceId\": \"tenant1-2\", \"temperature\": 24.19017522431165, \"ts\": \"2022-04-08T09:32:58.032265\", \"source\": \"eventhub\"}"
                },
                {
                  "0": "{\"deviceId\": \"tenant1-2\", \"temperature\": 11.632675543086979, \"ts\": \"2022-04-08T09:32:58.032390\", \"source\": \"eventhub\"}"
                },
                {
                  "0": "{\"deviceId\": \"tenant1-6\", \"temperature\": 47.59861955156052, \"ts\": \"2022-04-08T09:32:58.032510\", \"source\": \"eventhub\"}"
                },
                {
                  "0": "{\"deviceId\": \"tenant1-8\", \"temperature\": 9.991901519086836, \"ts\": \"2022-04-08T09:32:58.032652\", \"source\": \"eventhub\"}"
                },
                {
                  "0": "{\"deviceId\": \"tenant1-1\", \"temperature\": 49.05540815241024, \"ts\": \"2022-04-08T09:32:58.032789\", \"source\": \"eventhub\"}"
                },
                {
                  "0": "{\"deviceId\": \"tenant1-7\", \"temperature\": -16.324637360200853, \"ts\": \"2022-04-08T09:32:58.032911\", \"source\": \"eventhub\"}"
                },
                {
                  "0": "{\"deviceId\": \"tenant1-2\", \"temperature\": 30.18352799294983, \"ts\": \"2022-04-08T09:32:58.033033\", \"source\": \"eventhub\"}"
                }
              ],
              "schema": [
                {
                  "key": "0",
                  "name": "Body",
                  "type": "string"
                }
              ],
              "truncated": false
            },
            "isSummary": false,
            "language": "scala"
          },
          "persist_state": {
            "view": {
              "type": "details",
              "tableOptions": {},
              "chartOptions": {
                "chartType": "bar",
                "aggregationType": "count",
                "categoryFieldKeys": [
                  "0"
                ],
                "seriesFieldKeys": [
                  "0"
                ],
                "isStacked": false
              }
            }
          }
        }
      }
    }
  },
  "nbformat": 4,
  "nbformat_minor": 2
}
