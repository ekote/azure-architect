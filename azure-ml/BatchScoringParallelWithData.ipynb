{
 "cells": [
  {
   "cell_type": "code",
   "execution_count": 68,
   "metadata": {},
   "outputs": [
    {
     "name": "stdout",
     "output_type": "stream",
     "text": [
      "Overwriting model.py\n"
     ]
    }
   ],
   "source": [
    "%%writefile score.py\n",
    "\n",
    "import pandas as pd\n",
    "import statsmodels.api as sm\n",
    "from azureml_user.parallel_run import EntryScript\n",
    "\n",
    "\n",
    "def init():\n",
    "    \"\"\"Init once in a worker process.\"\"\"\n",
    "    entry_script = EntryScript()\n",
    "    logger = entry_script.logger\n",
    "    logger.info(\"This will show up in files under logs/user on the Azure portal.\")\n",
    "\n",
    "\n",
    "def run(input_data):\n",
    "    \"\"\"Call once for a mini batch. Accept and return the list back.\n",
    "    This class is in singleton pattern and will return same instance as the one in init()\"\"\"\n",
    "    entry_script = EntryScript()\n",
    "    logger = entry_script.logger\n",
    "    logger.info(f\"{__file__}: {input_data}.\")\n",
    "    print(\"run() is called with: {}.\".format(input_data))\n",
    "\n",
    "    logger.info(\"KOT\")\n",
    "    for i in input_data:\n",
    "        logger.info(f\"Processing CSV={i}\")\n",
    "    logger.info(\"KOT\")\n",
    "    print(input_data)\n",
    "\n",
    "    # as we have only one csv in our data -> index is 0\n",
    "    logger.info(input_data[0])\n",
    "    # input_data[0] returns path to the csv\n",
    "    data = pd.read_csv(input_data[0])\n",
    "\n",
    "    X = data.filter(regex='ColumnA')\n",
    "    Y = data.filter(regex='ColumnB')\n",
    "    model = sm.OLS(Y, X)\n",
    "    result = model.fit()\n",
    "\n",
    "    # returned results should be either a df or list\n",
    "    r = (result.params).to_frame()\n",
    "\n",
    "    return r"
   ]
  },
  {
   "cell_type": "code",
   "execution_count": 53,
   "metadata": {
    "gather": {
     "logged": 1643793115121
    }
   },
   "outputs": [],
   "source": [
    "import statsmodels.api as sm\n",
    "import pandas as pd\n",
    "from azureml.core import Workspace\n",
    "from azureml.core.datastore import Datastore\n",
    "from azureml.core.dataset import Dataset\n",
    "from azureml.core.model import Model\n",
    "from azureml.core.compute import AmlCompute, ComputeTarget\n",
    "from azureml.exceptions import ComputeTargetException\n",
    "from azureml.core import Environment\n",
    "from azureml.core.conda_dependencies import CondaDependencies\n",
    "from azureml.core.runconfig import DEFAULT_GPU_IMAGE\n",
    "from azureml.pipeline.core import PipelineData\n",
    "from azureml.pipeline.steps import ParallelRunConfig, ParallelRunStep\n",
    "\n",
    "from datetime import datetime\n",
    "from azureml.core import Experiment\n",
    "from azureml.pipeline.core import Pipeline\n",
    "from azureml.pipeline.steps import PythonScriptStep"
   ]
  },
  {
   "cell_type": "code",
   "execution_count": 69,
   "metadata": {
    "gather": {
     "logged": 1643793117584
    },
    "jupyter": {
     "outputs_hidden": false,
     "source_hidden": false
    },
    "nteract": {
     "transient": {
      "deleting": false
     }
    }
   },
   "outputs": [
    {
     "data": {
      "text/plain": [
       "azureml.data.file_dataset.FileDataset"
      ]
     },
     "execution_count": 69,
     "metadata": {},
     "output_type": "execute_result"
    }
   ],
   "source": [
    "ws = Workspace(subscription_id=\"\", #TODO\n",
    "               resource_group=\"\", #TODO\n",
    "               workspace_name=\"\") # TODO\n",
    "\n",
    "ws.set_default_datastore('') # TODO\n",
    "\n",
    "data_blob = ws.get_default_datastore()\n",
    "\n",
    "# na blobie w contenerze data_container przerzucilam plik \n",
    "data = Dataset.File.from_files((data_blob,'data_container/ABCwithData.csv'))\n",
    "\n",
    "type(data)"
   ]
  },
  {
   "cell_type": "code",
   "execution_count": 58,
   "metadata": {
    "gather": {
     "logged": 1643793121282
    },
    "jupyter": {
     "outputs_hidden": false,
     "source_hidden": false
    },
    "nteract": {
     "transient": {
      "deleting": false
     }
    }
   },
   "outputs": [],
   "source": [
    "output_dir = PipelineData(name=\"scores\", datastore=data_blob)"
   ]
  },
  {
   "cell_type": "code",
   "execution_count": 61,
   "metadata": {
    "gather": {
     "logged": 1643793121486
    },
    "jupyter": {
     "outputs_hidden": false,
     "source_hidden": false
    },
    "nteract": {
     "transient": {
      "deleting": false
     }
    }
   },
   "outputs": [],
   "source": [
    "compute_name = \"gpu-engine\"\n",
    "\n",
    "try:\n",
    "    compute_target = ComputeTarget(workspace=ws, name=compute_name)\n",
    "except ComputeTargetException:\n",
    "    config = AmlCompute.provisioning_configuration(vm_size=\"STANDARD_NC6\",\n",
    "                                                   vm_priority=\"lowpriority\", \n",
    "                                                   min_nodes=1, \n",
    "                                                   max_nodes=1)\n",
    "\n",
    "    compute_target = ComputeTarget.create(workspace=ws, name=compute_name, provisioning_configuration=config)\n",
    "    compute_target.wait_for_completion(show_output=True, min_node_count=None, timeout_in_minutes=20)\n",
    "\n"
   ]
  },
  {
   "cell_type": "code",
   "execution_count": 62,
   "metadata": {
    "gather": {
     "logged": 1643793121650
    },
    "jupyter": {
     "outputs_hidden": false,
     "source_hidden": false
    },
    "nteract": {
     "transient": {
      "deleting": false
     }
    }
   },
   "outputs": [],
   "source": [
    "cd = CondaDependencies.create(pip_packages=[\"pandas\",\"statsmodels\", \"scikit-learn==0.20.3\", \"azureml-core\", \"azureml-dataset-runtime[pandas,fuse]\"])\n",
    "env = Environment(name=\"parallelenv\")\n",
    "env.python.conda_dependencies=cd\n",
    "env.docker.base_image = DEFAULT_GPU_IMAGE"
   ]
  },
  {
   "cell_type": "code",
   "execution_count": 63,
   "metadata": {
    "gather": {
     "logged": 1643794327191
    },
    "jupyter": {
     "outputs_hidden": false,
     "source_hidden": false
    },
    "nteract": {
     "transient": {
      "deleting": false
     }
    }
   },
   "outputs": [],
   "source": [
    "parallel_run_config = ParallelRunConfig(\n",
    "    environment=env,\n",
    "    entry_script=\"score.py\",\n",
    "    source_directory=\"./\",\n",
    "    output_action=\"append_row\",\n",
    "    append_row_file_name=\"parallel_run_step.txt\",\n",
    "    mini_batch_size=\"20000\",\n",
    "    error_threshold=1,\n",
    "    compute_target=compute_target,\n",
    "    process_count_per_node=1,\n",
    "    node_count=1\n",
    ")"
   ]
  },
  {
   "cell_type": "code",
   "execution_count": 65,
   "metadata": {
    "gather": {
     "logged": 1643794331496
    },
    "jupyter": {
     "outputs_hidden": false,
     "source_hidden": false
    },
    "nteract": {
     "transient": {
      "deleting": false
     }
    }
   },
   "outputs": [],
   "source": [
    "parallel_step_name = \"batchscoring-\" + datetime.now().strftime(\"%Y%m%d%H%M\")\n",
    "\n",
    "dt = data.as_named_input('data')\n",
    "\n",
    "batch_score_step = ParallelRunStep(\n",
    "    name=parallel_step_name,\n",
    "    inputs=[dt],\n",
    "    output=output_dir,\n",
    "    parallel_run_config=parallel_run_config,\n",
    "    allow_reuse=False\n",
    ")\n"
   ]
  },
  {
   "cell_type": "code",
   "execution_count": null,
   "metadata": {
    "gather": {
     "logged": 1643794784237
    },
    "jupyter": {
     "outputs_hidden": false,
     "source_hidden": false
    },
    "nteract": {
     "transient": {
      "deleting": false
     }
    }
   },
   "outputs": [],
   "source": [
    "pipeline = Pipeline(workspace=ws,steps=[batch_score_step])\n",
    "pipeline_run = Experiment(ws, \"Batch-Scoring-Experiment-Kot\").submit(pipeline)\n",
    "\n",
    "pipeline_run\n",
    "\n",
    "pipeline_run.wait_for_completion(show_output=True)\n"
   ]
  }
 ],
 "metadata": {
  "kernel_info": {
   "name": "python3-azureml"
  },
  "kernelspec": {
   "display_name": "Python 3.6 - AzureML",
   "language": "python",
   "name": "python3-azureml"
  },
  "language_info": {
   "codemirror_mode": {
    "name": "ipython",
    "version": 3
   },
   "file_extension": ".py",
   "mimetype": "text/x-python",
   "name": "python",
   "nbconvert_exporter": "python",
   "pygments_lexer": "ipython3",
   "version": "3.6.9"
  },
  "microsoft": {
   "host": {
    "AzureML": {
     "notebookHasBeenCompleted": true
    }
   }
  },
  "nteract": {
   "version": "nteract-front-end@1.0.0"
  }
 },
 "nbformat": 4,
 "nbformat_minor": 1
}
